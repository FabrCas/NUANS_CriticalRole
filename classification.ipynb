{
  "cells": [
    {
      "cell_type": "markdown",
      "source": [
        "#Introduction\n",
        "In this notebook we create the graphs, node features, and define and train the various models. \n",
        "The two types of Graphs (Event/Char and Char only) are created first, and then the models and the training and testing functions are defined. Finally, there are executions with the cells already executed to display the output of the Test phase."
      ],
      "metadata": {
        "id": "gDPixZZW0Nhj"
      }
    },
    {
      "cell_type": "markdown",
      "source": [
        "# Environment"
      ],
      "metadata": {
        "id": "bfT8UR4stD5q"
      }
    },
    {
      "cell_type": "markdown",
      "metadata": {
        "id": "_cN2EDMzNV7W"
      },
      "source": [
        "## Installs"
      ]
    },
    {
      "cell_type": "code",
      "execution_count": null,
      "metadata": {
        "colab": {
          "base_uri": "https://localhost:8080/"
        },
        "id": "LANpqcJxakyj",
        "outputId": "e3eb9c68-1bea-432a-96f0-f4972e54d1cf"
      },
      "outputs": [
        {
          "output_type": "stream",
          "name": "stdout",
          "text": [
            "Looking in indexes: https://pypi.org/simple, https://us-python.pkg.dev/colab-wheels/public/simple/\n",
            "Collecting sentence-transformers\n",
            "  Downloading sentence-transformers-2.2.2.tar.gz (85 kB)\n",
            "\u001b[2K     \u001b[90m━━━━━━━━━━━━━━━━━━━━━━━━━━━━━━━━━━━━━━━━\u001b[0m \u001b[32m86.0/86.0 kB\u001b[0m \u001b[31m3.5 MB/s\u001b[0m eta \u001b[36m0:00:00\u001b[0m\n",
            "\u001b[?25h  Preparing metadata (setup.py) ... \u001b[?25l\u001b[?25hdone\n",
            "Collecting transformers<5.0.0,>=4.6.0\n",
            "  Downloading transformers-4.27.4-py3-none-any.whl (6.8 MB)\n",
            "\u001b[2K     \u001b[90m━━━━━━━━━━━━━━━━━━━━━━━━━━━━━━━━━━━━━━━━\u001b[0m \u001b[32m6.8/6.8 MB\u001b[0m \u001b[31m58.9 MB/s\u001b[0m eta \u001b[36m0:00:00\u001b[0m\n",
            "\u001b[?25hRequirement already satisfied: tqdm in /usr/local/lib/python3.9/dist-packages (from sentence-transformers) (4.65.0)\n",
            "Requirement already satisfied: torch>=1.6.0 in /usr/local/lib/python3.9/dist-packages (from sentence-transformers) (2.0.0+cu118)\n",
            "Requirement already satisfied: torchvision in /usr/local/lib/python3.9/dist-packages (from sentence-transformers) (0.15.1+cu118)\n",
            "Requirement already satisfied: numpy in /usr/local/lib/python3.9/dist-packages (from sentence-transformers) (1.22.4)\n",
            "Requirement already satisfied: scikit-learn in /usr/local/lib/python3.9/dist-packages (from sentence-transformers) (1.2.2)\n",
            "Requirement already satisfied: scipy in /usr/local/lib/python3.9/dist-packages (from sentence-transformers) (1.10.1)\n",
            "Requirement already satisfied: nltk in /usr/local/lib/python3.9/dist-packages (from sentence-transformers) (3.8.1)\n",
            "Collecting sentencepiece\n",
            "  Downloading sentencepiece-0.1.97-cp39-cp39-manylinux_2_17_x86_64.manylinux2014_x86_64.whl (1.3 MB)\n",
            "\u001b[2K     \u001b[90m━━━━━━━━━━━━━━━━━━━━━━━━━━━━━━━━━━━━━━━━\u001b[0m \u001b[32m1.3/1.3 MB\u001b[0m \u001b[31m60.1 MB/s\u001b[0m eta \u001b[36m0:00:00\u001b[0m\n",
            "\u001b[?25hCollecting huggingface-hub>=0.4.0\n",
            "  Downloading huggingface_hub-0.13.4-py3-none-any.whl (200 kB)\n",
            "\u001b[2K     \u001b[90m━━━━━━━━━━━━━━━━━━━━━━━━━━━━━━━━━━━━━━\u001b[0m \u001b[32m200.1/200.1 kB\u001b[0m \u001b[31m19.5 MB/s\u001b[0m eta \u001b[36m0:00:00\u001b[0m\n",
            "\u001b[?25hRequirement already satisfied: pyyaml>=5.1 in /usr/local/lib/python3.9/dist-packages (from huggingface-hub>=0.4.0->sentence-transformers) (6.0)\n",
            "Requirement already satisfied: packaging>=20.9 in /usr/local/lib/python3.9/dist-packages (from huggingface-hub>=0.4.0->sentence-transformers) (23.0)\n",
            "Requirement already satisfied: requests in /usr/local/lib/python3.9/dist-packages (from huggingface-hub>=0.4.0->sentence-transformers) (2.27.1)\n",
            "Requirement already satisfied: filelock in /usr/local/lib/python3.9/dist-packages (from huggingface-hub>=0.4.0->sentence-transformers) (3.10.7)\n",
            "Requirement already satisfied: typing-extensions>=3.7.4.3 in /usr/local/lib/python3.9/dist-packages (from huggingface-hub>=0.4.0->sentence-transformers) (4.5.0)\n",
            "Requirement already satisfied: sympy in /usr/local/lib/python3.9/dist-packages (from torch>=1.6.0->sentence-transformers) (1.11.1)\n",
            "Requirement already satisfied: jinja2 in /usr/local/lib/python3.9/dist-packages (from torch>=1.6.0->sentence-transformers) (3.1.2)\n",
            "Requirement already satisfied: triton==2.0.0 in /usr/local/lib/python3.9/dist-packages (from torch>=1.6.0->sentence-transformers) (2.0.0)\n",
            "Requirement already satisfied: networkx in /usr/local/lib/python3.9/dist-packages (from torch>=1.6.0->sentence-transformers) (3.0)\n",
            "Requirement already satisfied: lit in /usr/local/lib/python3.9/dist-packages (from triton==2.0.0->torch>=1.6.0->sentence-transformers) (16.0.0)\n",
            "Requirement already satisfied: cmake in /usr/local/lib/python3.9/dist-packages (from triton==2.0.0->torch>=1.6.0->sentence-transformers) (3.25.2)\n",
            "Collecting tokenizers!=0.11.3,<0.14,>=0.11.1\n",
            "  Downloading tokenizers-0.13.3-cp39-cp39-manylinux_2_17_x86_64.manylinux2014_x86_64.whl (7.8 MB)\n",
            "\u001b[2K     \u001b[90m━━━━━━━━━━━━━━━━━━━━━━━━━━━━━━━━━━━━━━━━\u001b[0m \u001b[32m7.8/7.8 MB\u001b[0m \u001b[31m101.4 MB/s\u001b[0m eta \u001b[36m0:00:00\u001b[0m\n",
            "\u001b[?25hRequirement already satisfied: regex!=2019.12.17 in /usr/local/lib/python3.9/dist-packages (from transformers<5.0.0,>=4.6.0->sentence-transformers) (2022.10.31)\n",
            "Requirement already satisfied: joblib in /usr/local/lib/python3.9/dist-packages (from nltk->sentence-transformers) (1.1.1)\n",
            "Requirement already satisfied: click in /usr/local/lib/python3.9/dist-packages (from nltk->sentence-transformers) (8.1.3)\n",
            "Requirement already satisfied: threadpoolctl>=2.0.0 in /usr/local/lib/python3.9/dist-packages (from scikit-learn->sentence-transformers) (3.1.0)\n",
            "Requirement already satisfied: pillow!=8.3.*,>=5.3.0 in /usr/local/lib/python3.9/dist-packages (from torchvision->sentence-transformers) (8.4.0)\n",
            "Requirement already satisfied: MarkupSafe>=2.0 in /usr/local/lib/python3.9/dist-packages (from jinja2->torch>=1.6.0->sentence-transformers) (2.1.2)\n",
            "Requirement already satisfied: certifi>=2017.4.17 in /usr/local/lib/python3.9/dist-packages (from requests->huggingface-hub>=0.4.0->sentence-transformers) (2022.12.7)\n",
            "Requirement already satisfied: charset-normalizer~=2.0.0 in /usr/local/lib/python3.9/dist-packages (from requests->huggingface-hub>=0.4.0->sentence-transformers) (2.0.12)\n",
            "Requirement already satisfied: idna<4,>=2.5 in /usr/local/lib/python3.9/dist-packages (from requests->huggingface-hub>=0.4.0->sentence-transformers) (3.4)\n",
            "Requirement already satisfied: urllib3<1.27,>=1.21.1 in /usr/local/lib/python3.9/dist-packages (from requests->huggingface-hub>=0.4.0->sentence-transformers) (1.26.15)\n",
            "Requirement already satisfied: mpmath>=0.19 in /usr/local/lib/python3.9/dist-packages (from sympy->torch>=1.6.0->sentence-transformers) (1.3.0)\n",
            "Building wheels for collected packages: sentence-transformers\n",
            "  Building wheel for sentence-transformers (setup.py) ... \u001b[?25l\u001b[?25hdone\n",
            "  Created wheel for sentence-transformers: filename=sentence_transformers-2.2.2-py3-none-any.whl size=125942 sha256=8ca331d6b47ed57c62f4943f11726672db3f2981f5c3791eecd09538af8c62ab\n",
            "  Stored in directory: /root/.cache/pip/wheels/71/67/06/162a3760c40d74dd40bc855d527008d26341c2b0ecf3e8e11f\n",
            "Successfully built sentence-transformers\n",
            "Installing collected packages: tokenizers, sentencepiece, huggingface-hub, transformers, sentence-transformers\n",
            "Successfully installed huggingface-hub-0.13.4 sentence-transformers-2.2.2 sentencepiece-0.1.97 tokenizers-0.13.3 transformers-4.27.4\n"
          ]
        }
      ],
      "source": [
        "!pip install sentence-transformers\n",
        "!pip install fuzzywuzzy"
      ]
    },
    {
      "cell_type": "markdown",
      "metadata": {
        "id": "p37C_JMuFad6"
      },
      "source": [
        "## Mounting di GDrive"
      ]
    },
    {
      "cell_type": "code",
      "execution_count": null,
      "metadata": {
        "colab": {
          "base_uri": "https://localhost:8080/"
        },
        "id": "dCOCAs_qF0Zx",
        "outputId": "c01221d7-c3c1-47ae-c5e6-35cf625b458a"
      },
      "outputs": [
        {
          "output_type": "stream",
          "name": "stdout",
          "text": [
            "Mounted at /content/drive\n"
          ]
        }
      ],
      "source": [
        "from google.colab import drive\n",
        "import os\n",
        "drive.mount('/content/drive')"
      ]
    },
    {
      "cell_type": "code",
      "source": [
        "\"\"\" choose here whether you want to re-run on recap or summ, otherwise both will be loaded at train and test time\"\"\"\n",
        "recap = True\n",
        "summ = False"
      ],
      "metadata": {
        "id": "B0001pLZ6RbQ"
      },
      "execution_count": null,
      "outputs": []
    },
    {
      "cell_type": "code",
      "execution_count": null,
      "metadata": {
        "id": "FsCyLqjXWPCo"
      },
      "outputs": [],
      "source": [
        "SAVE = False #True to compute and save the features, False to only load them\n",
        "SAVE_GRAPH = False #True to compute and save the graph\n",
        "SAVE_GRAPH_EVENT_NODE = False"
      ]
    },
    {
      "cell_type": "code",
      "source": [
        "\"\"\"\n",
        "  choose for selecting which arc compose the training and test set and how to compute the feature:\n",
        "\n",
        "  - \"C1_C2_last_layer\":  train arc 1-2-3 from campaign 1 , test arc 1-2 from campaign 2 , frature embedding last layer of bert embedding\n",
        "  - \"C1\": train arc 1-2 from campaign 1 , test arc 3 from campaign 1 , \n",
        "  - \"C1_C2_all_layer\": train arc 1-2-3 from campaign 1 , test arc 1-2 from campaign 2 , frature embedding mean of last 4 layers of bert embedding\n",
        "  - \"C1_C2_last_layer_cleand\": train arc 1-2-3 from campaign 1 , test arc 1-2 from campaign 2 , frature embedding mean of last 4 layers of bert embedding\n",
        "\n",
        " \"\"\"\n",
        "LOAD_FEAT = \"C1_C2_last_layer_cleand\" \n",
        "\n",
        "# LOAD_FEAT = \"C1\"\n",
        "\n",
        "# LOAD_FEAT = \"C1_C2_all_layer\""
      ],
      "metadata": {
        "id": "joIPfT1abMK1"
      },
      "execution_count": null,
      "outputs": []
    },
    {
      "cell_type": "code",
      "execution_count": null,
      "metadata": {
        "id": "7aRKaMG2ub4u"
      },
      "outputs": [],
      "source": [
        "LOAD = True #to be used to preload html pages"
      ]
    },
    {
      "cell_type": "markdown",
      "metadata": {
        "id": "3rCj560FqdLB"
      },
      "source": [
        "## Imports"
      ]
    },
    {
      "cell_type": "code",
      "execution_count": null,
      "metadata": {
        "id": "JBsOfzJIafe3"
      },
      "outputs": [],
      "source": [
        "import torch"
      ]
    },
    {
      "cell_type": "code",
      "execution_count": null,
      "metadata": {
        "colab": {
          "base_uri": "https://localhost:8080/"
        },
        "id": "up80Q-4NBN8a",
        "outputId": "e3e07138-877e-4b83-ba59-64e48db91091"
      },
      "outputs": [
        {
          "output_type": "stream",
          "name": "stdout",
          "text": [
            "\u001b[2K     \u001b[90m━━━━━━━━━━━━━━━━━━━━━━━━━━━━━━━━━━━━━━━━\u001b[0m \u001b[32m10.2/10.2 MB\u001b[0m \u001b[31m11.0 MB/s\u001b[0m eta \u001b[36m0:00:00\u001b[0m\n",
            "\u001b[2K     \u001b[90m━━━━━━━━━━━━━━━━━━━━━━━━━━━━━━━━━━━━━━━━\u001b[0m \u001b[32m4.8/4.8 MB\u001b[0m \u001b[31m13.7 MB/s\u001b[0m eta \u001b[36m0:00:00\u001b[0m\n",
            "\u001b[?25h  Installing build dependencies ... \u001b[?25l\u001b[?25hdone\n",
            "  Getting requirements to build wheel ... \u001b[?25l\u001b[?25hdone\n",
            "  Preparing metadata (pyproject.toml) ... \u001b[?25l\u001b[?25hdone\n",
            "  Building wheel for torch_geometric (pyproject.toml) ... \u001b[?25l\u001b[?25hdone\n"
          ]
        }
      ],
      "source": [
        "# Install torch_geometric\n",
        "import os\n",
        "os.environ['TORCH'] = torch.__version__\n",
        "!pip install -q torch-scatter -f https://data.pyg.org/whl/torch-${TORCH}.html\n",
        "!pip install -q torch-sparse -f https://data.pyg.org/whl/torch-${TORCH}.html\n",
        "!pip install -q git+https://github.com/pyg-team/pytorch_geometric.git"
      ]
    },
    {
      "cell_type": "code",
      "source": [
        "import torch\n",
        "import torch.nn as nn"
      ],
      "metadata": {
        "id": "BSqNrETwGcXl"
      },
      "execution_count": null,
      "outputs": []
    },
    {
      "cell_type": "code",
      "execution_count": null,
      "metadata": {
        "id": "qnxPZAXcUT7o",
        "colab": {
          "base_uri": "https://localhost:8080/"
        },
        "outputId": "85f2891c-87a6-435d-d3c5-5a86f228b9cb"
      },
      "outputs": [
        {
          "output_type": "stream",
          "name": "stderr",
          "text": [
            "/usr/local/lib/python3.9/dist-packages/fuzzywuzzy/fuzz.py:11: UserWarning: Using slow pure-python SequenceMatcher. Install python-Levenshtein to remove this warning\n",
            "  warnings.warn('Using slow pure-python SequenceMatcher. Install python-Levenshtein to remove this warning')\n"
          ]
        }
      ],
      "source": [
        "import json\n",
        "import csv \n",
        "from sentence_transformers import SentenceTransformer\n",
        "from fuzzywuzzy import fuzz\n",
        "import numpy as np\n",
        "from torch.nn.utils.rnn import pad_sequence\n",
        "import networkx as nx\n",
        "import matplotlib.pyplot as plt\n"
      ]
    },
    {
      "cell_type": "code",
      "execution_count": null,
      "metadata": {
        "id": "IMAG58-jWhDx"
      },
      "outputs": [],
      "source": [
        "# import packets\n",
        "import torch_geometric\n",
        "import torch.nn.functional as F\n",
        "from torch_geometric.nn import GCNConv\n",
        "from torch_geometric.utils import from_networkx\n",
        "from torch_geometric.data import InMemoryDataset\n",
        "\n",
        "from sklearn.metrics import confusion_matrix\n",
        "from sklearn.metrics import classification_report\n",
        "from sklearn.model_selection import train_test_split\n",
        "\n",
        "import seaborn as sn\n"
      ]
    },
    {
      "cell_type": "code",
      "execution_count": null,
      "metadata": {
        "id": "31Nwnzsb-nak"
      },
      "outputs": [],
      "source": [
        "from torch_geometric.nn.conv import SAGEConv\n"
      ]
    },
    {
      "cell_type": "code",
      "execution_count": null,
      "metadata": {
        "id": "oe3EcsOJNOPF"
      },
      "outputs": [],
      "source": [
        "from tqdm import tqdm\n"
      ]
    },
    {
      "cell_type": "code",
      "source": [
        "from torch.nn import Linear\n",
        "from torch_geometric.nn import GCNConv\n",
        "from torch_geometric.nn.dense import DenseGCNConv\n",
        "from torch_geometric.nn.norm import BatchNorm\n",
        "from torch_geometric.nn.dense import DenseSAGEConv"
      ],
      "metadata": {
        "id": "1MKmrmZvkJeb"
      },
      "execution_count": null,
      "outputs": []
    },
    {
      "cell_type": "code",
      "execution_count": null,
      "metadata": {
        "colab": {
          "base_uri": "https://localhost:8080/"
        },
        "id": "2Q0KZcyuIN0n",
        "outputId": "39110ee4-f44b-41fd-a8fb-029bf2b42efa"
      },
      "outputs": [
        {
          "output_type": "execute_result",
          "data": {
            "text/plain": [
              "<torch._C.Generator at 0x7fec34384530>"
            ]
          },
          "metadata": {},
          "execution_count": 16
        }
      ],
      "source": [
        "import random\n",
        "\n",
        "random.seed(42)\n",
        "np.random.seed(42)\n",
        "torch.manual_seed(42)"
      ]
    },
    {
      "cell_type": "markdown",
      "metadata": {
        "id": "6KFbGvjyQMki"
      },
      "source": [
        "## Paths\n",
        "\n",
        "edit the ROOT_PATH if you wish to have access to files"
      ]
    },
    {
      "cell_type": "code",
      "execution_count": null,
      "metadata": {
        "id": "G1u0hGWIH69Q"
      },
      "outputs": [],
      "source": [
        "LINK_LIST_EPISODES = \"https://criticalrole.fandom.com/wiki/List_of_episodes\"\n",
        "LINK_ORIGIN_EPISODE = \"https://criticalrole.fandom.com/wiki/The_Story_of_Vox_Machina\"\n",
        "# root path used for drive access\n",
        "ROOT_PATH= \"/content/drive/MyDrive/Colab Notebooks/NUANS/project_bisazza_casadei/\"\n",
        "ROOT_PATH_OS= \"/content/drive/MyDrive/Colab\\ Notebooks/NUANS/project_bisazza_casadei/\""
      ]
    },
    {
      "cell_type": "code",
      "execution_count": null,
      "metadata": {
        "id": "x6MINdyVRPYq"
      },
      "outputs": [],
      "source": [
        "DATA_PATH = os.path.join(ROOT_PATH, \"data/\")\n",
        "DATA_PATH_OS = os.path.join(ROOT_PATH_OS, \"data/\")"
      ]
    },
    {
      "cell_type": "code",
      "execution_count": null,
      "metadata": {
        "id": "45TGtmxE7nm2"
      },
      "outputs": [],
      "source": [
        "RECAP_PATH = os.path.join(str(DATA_PATH), \"recap/\")\n",
        "RECAP_PATH_OS = os.path.join(str(DATA_PATH_OS), \"recap/\")"
      ]
    },
    {
      "cell_type": "code",
      "execution_count": null,
      "metadata": {
        "id": "_MhLYXKTTufR"
      },
      "outputs": [],
      "source": [
        "ARC1_PATH = os.path.join(str(RECAP_PATH), \"arc1.tsv\")\n",
        "ARC1_PATH_OS = os.path.join(str(RECAP_PATH_OS), \"arc1.tsv\")"
      ]
    },
    {
      "cell_type": "code",
      "execution_count": null,
      "metadata": {
        "id": "6mfNHSApTufS"
      },
      "outputs": [],
      "source": [
        "TL_PATH = os.path.join(str(DATA_PATH), \"timeline/\")\n",
        "TL_PATH_OS = os.path.join(str(DATA_PATH_OS), \"timeline/\")"
      ]
    },
    {
      "cell_type": "code",
      "execution_count": null,
      "metadata": {
        "id": "A62KuCEaTufT"
      },
      "outputs": [],
      "source": [
        "SUM_PATH = os.path.join(str(DATA_PATH), \"summaries/\")\n",
        "SUM_PATH_OS = os.path.join(str(DATA_PATH_OS), \"summaries/\")"
      ]
    },
    {
      "cell_type": "code",
      "execution_count": null,
      "metadata": {
        "id": "WZXiSkI-TufT"
      },
      "outputs": [],
      "source": [
        "SUM_ARC1_PATH = os.path.join(str(SUM_PATH), \"sum_arc1.tsv\")\n",
        "SUM_ARC1_PATH_OS = os.path.join(str(SUM_PATH_OS), \"sum_arc1.tsv\")"
      ]
    },
    {
      "cell_type": "code",
      "execution_count": null,
      "metadata": {
        "id": "mTl22VdyULk7"
      },
      "outputs": [],
      "source": [
        "PATH_GT_C = '/content/drive/MyDrive/Colab Notebooks/NUANS/project_bisazza_casadei/data/GT/characters/'\n",
        "PATH_GT_R = '/content/drive/MyDrive/Colab Notebooks/NUANS/project_bisazza_casadei/data/GT/roles/'"
      ]
    },
    {
      "cell_type": "code",
      "execution_count": null,
      "metadata": {
        "id": "mDezPF-Abw8x"
      },
      "outputs": [],
      "source": [
        "TL_events_PATH = os.path.join(str(DATA_PATH), \"events/\")\n",
        "TL_events_PATH_OS = os.path.join(str(DATA_PATH_OS), \"events/\")"
      ]
    },
    {
      "cell_type": "code",
      "execution_count": null,
      "metadata": {
        "id": "T9lhmGorZ04s"
      },
      "outputs": [],
      "source": [
        "PPR_PATH = os.path.join(str(DATA_PATH), \"ppr/\")\n",
        "PPR_PATH_OS = os.path.join(str(DATA_PATH_OS), \"ppr/\")"
      ]
    },
    {
      "cell_type": "code",
      "execution_count": null,
      "metadata": {
        "id": "MGMpeab9dJNI"
      },
      "outputs": [],
      "source": [
        "GNN_features_PATH = os.path.join(str(DATA_PATH), \"GNN_features/\")\n",
        "GNN_features_PATH_OS = os.path.join(str(DATA_PATH_OS), \"GNN_features/\")"
      ]
    },
    {
      "cell_type": "code",
      "execution_count": null,
      "metadata": {
        "id": "U7uFvCZSE135"
      },
      "outputs": [],
      "source": [
        "TL_PATH_C2 = os.path.join(str(DATA_PATH), \"timeline_C2/\")\n",
        "TL_PATH_OS_C2 = os.path.join(str(DATA_PATH_OS), \"timeline_C2/\")\n",
        "TL_COREF_PATH_C2= os.path.join(str(DATA_PATH), \"timeline_C2/timeline-coref-substitued/\")\n",
        "TL_COREF_PATH_OS_C2 = os.path.join(str(DATA_PATH_OS), \"timeline_C2/timeline-coref-substitued/\")"
      ]
    },
    {
      "cell_type": "code",
      "source": [
        "TL_events_PATH_C2 = os.path.join(str(DATA_PATH), \"events_C2/\")\n",
        "TL_events_PATH_OS_C2 = os.path.join(str(DATA_PATH_OS), \"events_C2/\")"
      ],
      "metadata": {
        "id": "lxyea8pbE_RR"
      },
      "execution_count": null,
      "outputs": []
    },
    {
      "cell_type": "code",
      "execution_count": null,
      "metadata": {
        "id": "w1x5GEZXFBBm"
      },
      "outputs": [],
      "source": [
        "SUM_PATH_C2 = os.path.join(str(DATA_PATH), \"summaries_C2/\")\n",
        "SUM_PATH_OS_C2 = os.path.join(str(DATA_PATH_OS), \"summaries_C2/\")\n",
        "SUM_COREF_PATH_C2 = os.path.join(str(DATA_PATH), \"summaries_C2/summaries-coref-substitued/\")\n",
        "SUM_COREF_PATH_OS_C2 = os.path.join(str(DATA_PATH_OS), \"summaries_C2/summaries-coref-substitued/\")\n"
      ]
    },
    {
      "cell_type": "markdown",
      "metadata": {
        "id": "mJKr6wD0Gul3"
      },
      "source": [
        "## Loads"
      ]
    },
    {
      "cell_type": "code",
      "execution_count": null,
      "metadata": {
        "id": "dbcPP2hUT_MJ"
      },
      "outputs": [],
      "source": [
        "\"\"\" load JSON file (return a dictionary)\"\"\"\n",
        "def loadJSON(path,name):\n",
        "  # print(f\"- loading JSON file: {name}.json, at: {path} ...\")\n",
        "  with open(path + name + '.json', 'r') as f:\n",
        "    data = json.load(f)\n",
        "  return data\n",
        "  \n",
        "\"\"\" save JSON file \"\"\"\n",
        "def saveJSON(data, name, path = './', download = True):\n",
        "    # print(f\"- saving JSON file: {name}.json, at: {path} ...\")\n",
        "    with open(path + name + '.json', 'w') as f:\n",
        "        json.dump(data, f, indent=4,default=lambda x: str(x))\n",
        "    if download: \n",
        "        files.download(path + name + '.json')\n"
      ]
    },
    {
      "cell_type": "code",
      "execution_count": null,
      "metadata": {
        "id": "LQ7kqyMcGf1p"
      },
      "outputs": [],
      "source": [
        "if SAVE_GRAPH==True or SAVE_GRAPH_EVENT_NODE== True:\n",
        "  character_dictionary = {}\n",
        "  character_dictionary = loadJSON(PATH_GT_C,'gt_characters_arc1')\n",
        "\n",
        "  npc_dictionary ={}\n",
        "  npc_dictionary = loadJSON(PATH_GT_R,'all_NPCs')"
      ]
    },
    {
      "cell_type": "code",
      "execution_count": null,
      "metadata": {
        "id": "xZ2zai1-dluJ"
      },
      "outputs": [],
      "source": [
        "\n",
        "arc_1_TL_events_CHAR_ONLY =loadJSON(TL_events_PATH, 'arc_1-TL_coref_events_CHAR_ONLY-json')\n",
        "arc_2_TL_events_CHAR_ONLY =loadJSON(TL_events_PATH, 'arc_2-TL_coref_events_CHAR_ONLY-json')\n",
        "arc_3_TL_events_CHAR_ONLY =loadJSON(TL_events_PATH, 'arc_3-TL_coref_events_CHAR_ONLY-json')\n"
      ]
    },
    {
      "cell_type": "code",
      "execution_count": null,
      "metadata": {
        "id": "DLr7mjHmVsup"
      },
      "outputs": [],
      "source": [
        "\n",
        "arc_1_TL_events_char_dict =loadJSON(TL_events_PATH, 'arc_1-TL_coref_events_CHAR_ONLY-json_char_dict')\n",
        "arc_2_TL_events_char_dict =loadJSON(TL_events_PATH, 'arc_2-TL_coref_events_CHAR_ONLY-json_char_dict')\n",
        "arc_3_TL_events_char_dict =loadJSON(TL_events_PATH, 'arc_3-TL_coref_events_CHAR_ONLY-json_char_dict')\n",
        "\n"
      ]
    },
    {
      "cell_type": "code",
      "execution_count": null,
      "metadata": {
        "id": "grJHzezCmZDQ"
      },
      "outputs": [],
      "source": [
        "\n",
        "arc_1_recap_events_CHAR_ONLY =loadJSON(TL_events_PATH, 'arc_1-recap_coref_events_CHAR_ONLY-json')\n",
        "arc_2_recap_events_CHAR_ONLY =loadJSON(TL_events_PATH, 'arc_2-recap_coref_events_CHAR_ONLY-json')\n",
        "arc_3_recap_events_CHAR_ONLY =loadJSON(TL_events_PATH, 'arc_3-recap_coref_events_CHAR_ONLY-json')\n"
      ]
    },
    {
      "cell_type": "code",
      "execution_count": null,
      "metadata": {
        "id": "OhLbzWDRmZDQ"
      },
      "outputs": [],
      "source": [
        "\n",
        "arc_1_recap_events_char_dict =loadJSON(TL_events_PATH, 'arc_1-recap_coref_events_CHAR_ONLY-json_char_dict')\n",
        "arc_2_recap_events_char_dict =loadJSON(TL_events_PATH, 'arc_2-recap_coref_events_CHAR_ONLY-json_char_dict')\n",
        "arc_3_recap_events_char_dict =loadJSON(TL_events_PATH, 'arc_3-recap_coref_events_CHAR_ONLY-json_char_dict')\n",
        "\n"
      ]
    },
    {
      "cell_type": "code",
      "execution_count": null,
      "metadata": {
        "id": "L56PXPGR5YhB"
      },
      "outputs": [],
      "source": [
        "\n",
        "arc_1_summ_events_CHAR_ONLY =loadJSON(TL_events_PATH, 'arc_1-summ_coref_events_CHAR_ONLY-json')\n",
        "arc_2_summ_events_CHAR_ONLY=loadJSON(TL_events_PATH, 'arc_2-summ_coref_events_CHAR_ONLY-json')\n",
        "arc_3_summ_events_CHAR_ONLY =loadJSON(TL_events_PATH, 'arc_3-summ_coref_events_CHAR_ONLY-json')\n"
      ]
    },
    {
      "cell_type": "code",
      "execution_count": null,
      "metadata": {
        "id": "MNLNgZ0C5YhC"
      },
      "outputs": [],
      "source": [
        "\n",
        "arc_1_summ_events_char_dict =loadJSON(TL_events_PATH, 'arc_1-summ_coref_events_CHAR_ONLY-json_char_dict')\n",
        "arc_2_summ_events_char_dict =loadJSON(TL_events_PATH, 'arc_2-summ_coref_events_CHAR_ONLY-json_char_dict')\n",
        "arc_3_summ_events_char_dict =loadJSON(TL_events_PATH, 'arc_3-summ_coref_events_CHAR_ONLY-json_char_dict')\n",
        "\n"
      ]
    },
    {
      "cell_type": "code",
      "source": [
        "\n",
        "\n",
        "\n",
        "arc_1_C2_recap_events_CHAR_ONLY =loadJSON(TL_events_PATH_C2, 'arc_1-recap_coref_events_CHAR_ONLY-json')\n",
        "arc_2_C2_recap_events_CHAR_ONLY =loadJSON(TL_events_PATH_C2, 'arc_2-recap_coref_events_CHAR_ONLY-json')\n"
      ],
      "metadata": {
        "id": "U1RzJh_XcqTD"
      },
      "execution_count": null,
      "outputs": []
    },
    {
      "cell_type": "code",
      "source": [
        "\n",
        "arc_1_C2_recap_events_char_dict =loadJSON(TL_events_PATH_C2, 'arc_1-recap_coref_events_CHAR_ONLY-json_char_dict')\n",
        "arc_2_C2_recap_events_char_dict =loadJSON(TL_events_PATH_C2, 'arc_2-recap_coref_events_CHAR_ONLY-json_char_dict')"
      ],
      "metadata": {
        "id": "7uVrMVnQc8_-"
      },
      "execution_count": null,
      "outputs": []
    },
    {
      "cell_type": "code",
      "source": [
        "\n",
        "\n",
        "\n",
        "arc_1_C2_summ_events_CHAR_ONLY =loadJSON(TL_events_PATH_C2, 'arc_1-summ_coref_events_CHAR_ONLY-json')\n",
        "arc_2_C2_summ_events_CHAR_ONLY =loadJSON(TL_events_PATH_C2, 'arc_2-summ_coref_events_CHAR_ONLY-json')\n"
      ],
      "metadata": {
        "id": "s5IllWYF5yzr"
      },
      "execution_count": null,
      "outputs": []
    },
    {
      "cell_type": "code",
      "source": [
        "\n",
        "arc_1_C2_summ_events_char_dict =loadJSON(TL_events_PATH_C2, 'arc_1-summ_coref_events_CHAR_ONLY-json_char_dict')\n",
        "arc_2_C2_summ_events_char_dict =loadJSON(TL_events_PATH_C2, 'arc_2-summ_coref_events_CHAR_ONLY-json_char_dict')"
      ],
      "metadata": {
        "id": "V9uoim-I5yzs"
      },
      "execution_count": null,
      "outputs": []
    },
    {
      "cell_type": "markdown",
      "metadata": {
        "id": "MRqKlGykmLNS"
      },
      "source": [
        "### Choose execution variables\n",
        "\n",
        "\n",
        "here if you want you can edit which arcs are part of the train and test dataset"
      ]
    },
    {
      "cell_type": "code",
      "execution_count": null,
      "metadata": {
        "id": "S8jnIwr_5OiH"
      },
      "outputs": [],
      "source": [
        "# unite the dictionary for training \n",
        "\n",
        "def unite_cahr_dict(train_char_dict, dict_list):\n",
        "  for dict2 in dict_list:\n",
        "    for key, value in dict2.items():\n",
        "      train_char_dict[key] = train_char_dict.get(key, []) + value\n",
        "  return train_char_dict\n",
        "\n"
      ]
    },
    {
      "cell_type": "code",
      "execution_count": null,
      "metadata": {
        "id": "cBbxkxfumO7l"
      },
      "outputs": [],
      "source": [
        "# train_char_dict = arc_1_recap_events_char_dict\n",
        "if recap == True:\n",
        "  train_char_dict = arc_1_recap_events_char_dict.copy()\n",
        "  dict_list = [arc_2_recap_events_char_dict.copy(), arc_3_recap_events_char_dict.copy()]\n",
        "  train_char_dict = unite_cahr_dict(train_char_dict, dict_list)\n",
        "\n",
        "  train_event_dict = arc_1_recap_events_CHAR_ONLY+arc_2_recap_events_CHAR_ONLY +arc_3_recap_events_CHAR_ONLY\n",
        "\n",
        "\n",
        "  test_char_dict = arc_1_C2_recap_events_char_dict.copy()\n",
        "  dict_list = [arc_2_C2_recap_events_char_dict.copy()]\n",
        "  test_char_dict = unite_cahr_dict(test_char_dict, dict_list)\n",
        "\n",
        "  test_event_dict = arc_1_C2_recap_events_CHAR_ONLY + arc_2_C2_recap_events_CHAR_ONLY\n",
        "if summ == True:\n",
        "  train_char_dict = arc_1_summ_events_char_dict.copy()\n",
        "  dict_list = [arc_2_summ_events_char_dict.copy(), arc_3_summ_events_char_dict.copy()]\n",
        "  train_char_dict = unite_cahr_dict(train_char_dict, dict_list)\n",
        "\n",
        "  train_event_dict = arc_1_summ_events_CHAR_ONLY+arc_2_summ_events_CHAR_ONLY +arc_3_summ_events_CHAR_ONLY\n",
        "\n",
        "\n",
        "  test_char_dict = arc_1_C2_summ_events_char_dict.copy()\n",
        "  dict_list = [arc_2_C2_summ_events_char_dict.copy()]\n",
        "  test_char_dict = unite_cahr_dict(test_char_dict, dict_list)\n",
        "\n",
        "  test_event_dict = arc_1_C2_summ_events_CHAR_ONLY + arc_2_C2_summ_events_CHAR_ONLY"
      ]
    },
    {
      "cell_type": "markdown",
      "metadata": {
        "id": "n_slbzcdTXEb"
      },
      "source": [
        "# Feature encoding \n",
        "\n",
        "the dictionary containing the features representing each character is created, saved and/or loaded here"
      ]
    },
    {
      "cell_type": "markdown",
      "metadata": {
        "id": "oMRER2Hy8JwJ"
      },
      "source": [
        "## Transoformers embeddings"
      ]
    },
    {
      "cell_type": "code",
      "execution_count": null,
      "metadata": {
        "colab": {
          "base_uri": "https://localhost:8080/"
        },
        "id": "msQlY0xF8Ush",
        "outputId": "24600230-fb3a-4217-aee3-42e9b48326a7"
      },
      "outputs": [
        {
          "output_type": "stream",
          "name": "stdout",
          "text": [
            "Looking in indexes: https://pypi.org/simple, https://us-python.pkg.dev/colab-wheels/public/simple/\n",
            "Requirement already satisfied: transformers in /usr/local/lib/python3.9/dist-packages (4.27.4)\n",
            "Requirement already satisfied: packaging>=20.0 in /usr/local/lib/python3.9/dist-packages (from transformers) (23.0)\n",
            "Requirement already satisfied: regex!=2019.12.17 in /usr/local/lib/python3.9/dist-packages (from transformers) (2022.10.31)\n",
            "Requirement already satisfied: tqdm>=4.27 in /usr/local/lib/python3.9/dist-packages (from transformers) (4.65.0)\n",
            "Requirement already satisfied: filelock in /usr/local/lib/python3.9/dist-packages (from transformers) (3.10.7)\n",
            "Requirement already satisfied: numpy>=1.17 in /usr/local/lib/python3.9/dist-packages (from transformers) (1.22.4)\n",
            "Requirement already satisfied: pyyaml>=5.1 in /usr/local/lib/python3.9/dist-packages (from transformers) (6.0)\n",
            "Requirement already satisfied: requests in /usr/local/lib/python3.9/dist-packages (from transformers) (2.27.1)\n",
            "Requirement already satisfied: huggingface-hub<1.0,>=0.11.0 in /usr/local/lib/python3.9/dist-packages (from transformers) (0.13.4)\n",
            "Requirement already satisfied: tokenizers!=0.11.3,<0.14,>=0.11.1 in /usr/local/lib/python3.9/dist-packages (from transformers) (0.13.3)\n",
            "Requirement already satisfied: typing-extensions>=3.7.4.3 in /usr/local/lib/python3.9/dist-packages (from huggingface-hub<1.0,>=0.11.0->transformers) (4.5.0)\n",
            "Requirement already satisfied: charset-normalizer~=2.0.0 in /usr/local/lib/python3.9/dist-packages (from requests->transformers) (2.0.12)\n",
            "Requirement already satisfied: idna<4,>=2.5 in /usr/local/lib/python3.9/dist-packages (from requests->transformers) (3.4)\n",
            "Requirement already satisfied: certifi>=2017.4.17 in /usr/local/lib/python3.9/dist-packages (from requests->transformers) (2022.12.7)\n",
            "Requirement already satisfied: urllib3<1.27,>=1.21.1 in /usr/local/lib/python3.9/dist-packages (from requests->transformers) (1.26.15)\n"
          ]
        }
      ],
      "source": [
        "!pip install transformers"
      ]
    },
    {
      "cell_type": "code",
      "execution_count": null,
      "metadata": {
        "id": "v2BvzBYyBR-p"
      },
      "outputs": [],
      "source": [
        "from transformers import BertModel, BertTokenizer, logging\n",
        "import torch as T\n",
        "import numpy as np\n",
        "import pandas as pd\n",
        "PATH_PROJECT_FOLDER = \"/content/drive/MyDrive/Colab Notebooks/NUANS/project_bisazza_casadei/\"\n",
        "\n",
        "logging.set_verbosity_error()\n",
        "\n",
        "\n",
        "\"\"\"\n",
        "          Read tsv file (default Verbatlas frames file)\n",
        "\"\"\"\n",
        "def readVAFrames(file_csv_name = \"VA_frame_info.tsv\", show = False):\n",
        "  df = pd.read_csv(PATH_PROJECT_FOLDER + file_csv_name, sep='\\t', index_col = False, header = None, skiprows = [0])\n",
        "  if show: display(df)\n",
        "  list_sent = df.to_numpy()\n",
        "  target_description = list_sent.tolist()\n",
        "  return target_description\n",
        "\n",
        "\n",
        "\n",
        "\"\"\"\n",
        "          Load Bert Model & Tokenizer\n",
        "\"\"\"\n",
        "def init_embedding():\n",
        "  \n",
        "  # 1) load Bert model\n",
        "\n",
        "  global device, tokenizer, bert\n",
        "\n",
        "  device = T.device(\"cuda:0\" if T.cuda.is_available() else \"cpu\")\n",
        "\n",
        "  # load the bert tokenizer (CPU)\n",
        "  tokenizer =  BertTokenizer.from_pretrained('bert-base-uncased')\n",
        "\n",
        "  # load the Bert embedding model (GPU/CPU)\n",
        "  bert = BertModel.from_pretrained('bert-base-uncased', add_pooling_layer = True)\n",
        "  bert.eval()\n",
        "  bert.to(device)\n",
        "\n",
        "  # 2) load verbatlas data\n",
        "\n",
        "  global names_frame, descriptions_frame, meanings_frame, synonyms_frame\n",
        "\n",
        "  VA_frame_list = readVAFrames()\n",
        "\n",
        "  # create a list for each column of interest\n",
        "  names_frame = [row[1] for row in VA_frame_list]\n",
        "  descriptions_frame = [row[2] for row in VA_frame_list]\n",
        "  meanings_frame = [row[4] for row in VA_frame_list]\n",
        "  synonyms_frame = [row[5] for row in VA_frame_list]\n",
        "\n",
        "\n",
        "\"\"\"\n",
        "          Using Bert model return tokens and embeedding of sentence (parameter)\n",
        "          mode:\n",
        "                \"last layer\" -> return tokens embedding just from the last layer\n",
        "                \"pooling\" -> return embedding for the sentence \n",
        "                \"all layers\" -> return tokens embedding from all the layers\n",
        "\"\"\"\n",
        "def get_TokensEmb(sentence, mode = \"last layer\", verbose = False):\n",
        "  \n",
        "  # add special tokens to sentence\n",
        "  sentence = \"[CLS]\"+ sentence + \"[SEP]\"\n",
        "  \n",
        "  # tokenize the text\n",
        "  tokens_sent = tokenizer.tokenize(sentence, truncation = False)\n",
        "\n",
        "  # covert to bert ids, then create the tensor and use GPU whether available\n",
        "  tokens_ids_sent = T.tensor([tokenizer.convert_tokens_to_ids(tokens_sent)]).to(device)\n",
        "\n",
        "  # embedding forward\n",
        "  with T.no_grad():\n",
        "    bert_result = bert(tokens_ids_sent, output_hidden_states= True) \n",
        "\n",
        "  if mode == \"last layer\":\n",
        "    emb_sent = bert_result.last_hidden_state      # take embedding from last layer\n",
        "  elif mode == 'pooling':\n",
        "    emb_sent = bert_result.pooler_output          # take sentence embedding from pooling layer\n",
        "  elif mode == 'all layers':\n",
        "    emb_sent = bert_result.hidden_states          # take all the hidden layers\n",
        "    emb_sent = T.stack(emb_sent, dim=0)\n",
        "    # print(emb_sent.size)\n",
        "    # print(emb_sent.shape)\n",
        "\n",
        "    \n",
        "  # if mode == \"all layers\":\n",
        "  #   emb_sent = torch.sum(token[-4:], dim=0)\n",
        "\n",
        "  \n",
        "  if mode == \"last layer\" or  mode == \"pooling\":\n",
        "    emb_sent = emb_sent.cpu().numpy()\n",
        "    emb_sent = np.squeeze(emb_sent, axis = 0)\n",
        "\n",
        "  elif mode == \"all layers\":\n",
        "    emb_sent = T.squeeze(emb_sent, axis = 1)\n",
        "    emb_sent = T.sum(emb_sent[-4:], dim=0).cpu().numpy()\n",
        "\n",
        "  if verbose:\n",
        "    print(\"Tokens sentence -> {}\\n\".format(tokens_sent))\n",
        "    print(\"Tokens sentence IDs-> {}\\n\".format(tokens_ids_sent))\n",
        "    print(\"Shape sentence embedding -> {}\\n\".format(emb_sent.shape))\n",
        "    print(\"Sentence embedding-> {}\\n\".format(emb_sent))\n",
        "\n",
        "  return tokens_sent, emb_sent\n",
        "\n",
        "\n",
        "\"\"\"\n",
        "          Return the Character(word) embedding from a sentence\n",
        "          modes:\n",
        "                first -> return the embedding of the first match if the name is composed name\n",
        "                mean  -> return the embedding doing the mean if more tokens match the name (composed)\n",
        "\"\"\"\n",
        "def get_featureChar(sentence, name, mode = \"first\", verbose = False):\n",
        "\n",
        "  # insert name in the vocabulary to avoid splitting in different tokens or subwords\n",
        "  if not(name.lower().strip() in tokenizer.get_vocab()):\n",
        "    tokenizer.add_tokens(name.lower().strip())\n",
        "    bert.resize_token_embeddings(len(tokenizer))\n",
        "\n",
        "  # get embeddings and tokens\n",
        "  tokens, emb= get_TokensEmb(sentence, \"last layer\",verbose = verbose)\n",
        "\n",
        "  # get array of words from name\n",
        "  words_name = name.split()\n",
        "\n",
        "  # initialize the list of matching for 'mean' mode\n",
        "  if mode == 'mean': embs = []\n",
        "\n",
        "  # loop over the tokens for matching\n",
        "  for idx,token in enumerate(tokens):\n",
        "\n",
        "    token = token.replace('#','').strip()\n",
        "\n",
        "    # if token in one of the name's words\n",
        "    # if any([word_name.lower().strip() == token.lower().strip() for word_name in words_name]):\n",
        "    if name.lower().strip() in token.lower().strip():\n",
        "\n",
        "      if verbose: print(\"matching name-> {}, with token -> {}\".format(name, token))\n",
        "\n",
        "      # return or store embedding found\n",
        "      if mode == 'first':\n",
        "        if verbose: print(\"final shape-> {}\".format(emb[idx].shape))\n",
        "        return emb[idx].tolist()\n",
        "      elif mode == 'mean':\n",
        "        embs.append(emb[idx].tolist())\n",
        "\n",
        "  # if nothing has been found raise an error, in 'mean' mode compute the final result and return\n",
        "  if mode == 'first':\n",
        "    raise ValueError(\"Character embeddding: no word-token match\")\n",
        "\n",
        "  elif mode == 'mean':\n",
        "    if embs == []:\n",
        "      print(f\"name : {name}, not in sentence: {sentence}\")\n",
        "      print(\"Character embeddding: no word-token match\")\n",
        "      return [0 for i in range(768)]\n",
        "\n",
        "    else:\n",
        "      mean_emb = np.mean(embs, axis = 0)\n",
        "      if verbose: print(\"final shape-> {}\".format(mean_emb.shape))\n",
        "      return mean_emb.tolist()\n",
        "\n",
        "\n",
        "\"\"\"\n",
        "          Return the Event embedding from the frame name\n",
        "\"\"\"\n",
        "def get_featureEvent(frame_name, verbose = False):\n",
        "  if verbose: print(\"\\nSTARTING A NEW FRAME\")\n",
        "  idx_frame = -1\n",
        "\n",
        "  # found index of the frame and extract, if frame description contains uppercase keywords, extract them\n",
        "  for idx, (name_frame, description_frame, synonym_frame) in enumerate(zip(names_frame,descriptions_frame, synonyms_frame)):\n",
        "\n",
        "    if name_frame != frame_name: continue\n",
        "\n",
        "    idx_frame = idx\n",
        "\n",
        "    # make lower first character and split \n",
        "    words_description = description_frame[0].lower() + description_frame[1:]\n",
        "    words_description = words_description.split()\n",
        "    \n",
        "    # define array for the words whose embedding we are interested\n",
        "    words_description_upper = []\n",
        "\n",
        "    # filter to get only capital part of the description\n",
        "    for idx, word in enumerate(words_description):\n",
        "      if word.isupper():\n",
        "        if \"-\" in word:                         \n",
        "          for _word in word.split(\"-\"):\n",
        "            words_description_upper.append(_word)\n",
        "        else:\n",
        "          words_description_upper.append(word)\n",
        "\n",
        "    \n",
        "    if words_description_upper == []:\n",
        "      if verbose:print(\"No matching in the frame description found. Description frame-> {}\\n\".format(description_frame))\n",
        "\n",
        "    else:\n",
        "      if verbose:print(\"Matching in the frame description found, words matching -> {}\\n\".format(description_frame))\n",
        "      if verbose:print(words_description_upper)\n",
        "\n",
        "  # if not frame with the name spaciefied raise error\n",
        "  if idx_frame == -1: \n",
        "    if verbose:print(\"Event embedding error: not possible to find the requested frame, returning None\")\n",
        "    return None\n",
        "\n",
        "  \n",
        "  embs = []  # list of embeddings to store\n",
        "  \n",
        "  # get embedding from using the keywords extracted if exist\n",
        "  if not (words_description_upper == []):\n",
        "\n",
        "    description_frame = descriptions_frame[idx_frame]\n",
        "    # make first word of the sentence lower\n",
        "    description_frame = description_frame[0].lower() + description_frame[1:]\n",
        "\n",
        "    tokens, emb= get_TokensEmb(descriptions_frame[idx_frame], mode = \"last layer\", verbose = verbose )\n",
        "    for idx, token in enumerate(tokens):\n",
        "      if any([target.lower().strip() in token.lower().strip() for target in words_description_upper]):\n",
        "\n",
        "        if verbose: print(\"matching name-> {}, with token -> {}\".format(words_description_upper, token))\n",
        "        embs.append(emb[idx])\n",
        "\n",
        "    if embs != []:\n",
        "      embs = np.array(embs)\n",
        "      if verbose:print(embs.shape)\n",
        "      outcome = np.mean(embs, axis = 0)\n",
        "      if verbose:print(outcome.shape)\n",
        "      return outcome.tolist()\n",
        "\n",
        "  # case of no keywords found or no matching on keywords (words_description_upper == [] or embs == [])\n",
        "  _ , emb= get_TokensEmb(meanings_frame[idx_frame], mode = 'pooling', verbose = verbose)\n",
        "  if verbose:\n",
        "    print(\"Doing sentence embedding for the following meaning sentence:\\n {}\".format(meanings_frame[idx_frame]))\n",
        "    print(\"emb\",emb.shape)\n",
        "    print(\"retrun type(np.mean(emb, axis = 0).tolist())\", type(np.mean(emb, axis = 0).tolist()))\n",
        "  if len(emb.shape) == 1:\n",
        "      result = emb.tolist()\n",
        "  else:\n",
        "      # handle the case where emb is not 1-dimensional\n",
        "      result = np.mean(emb, axis = 0).tolist()\n",
        "  return result\n",
        "\n",
        "def get_featureEvent_meaning(frame_name, verbose = False):\n",
        "\n",
        "  idx_frame = -1\n",
        "\n",
        "  # found index of the frame and extract, if frame description contains uppercase keywords, extract them\n",
        "  for idx, (name_frame, description_frame, synonym_frame) in enumerate(zip(names_frame,descriptions_frame, synonyms_frame)):\n",
        "    if name_frame != frame_name: continue\n",
        "    idx_frame = idx\n",
        "\n",
        "  # if not frame with the name spaciefied raise error\n",
        "  if idx_frame == -1: \n",
        "    if verbose:print(\"Event embedding error: not possible to find the requested frame, returning None\")\n",
        "    return None\n",
        "\n",
        "  # case of no keywords found or no matching on keywords (words_description_upper == [] or embs == [])\n",
        "  _ , emb= get_TokensEmb(meanings_frame[idx_frame], mode = 'pooling', verbose = verbose)\n",
        "  if verbose:\n",
        "    print(\"Doing sentence embedding for the following meaning sentence:\\n {}\".format(meanings_frame[idx_frame]))\n",
        "    print(\"emb\",emb.shape)\n",
        "    print(\"retrun type(np.mean(emb, axis = 0).tolist())\", type(np.mean(emb, axis = 0).tolist()))\n",
        "  if len(emb.shape) == 1:\n",
        "      result = emb.tolist()\n",
        "  else:\n",
        "      # handle the case where emb is not 1-dimensional\n",
        "      result = np.mean(emb, axis = 0).tolist()\n",
        "  return result\n",
        "\n",
        "if SAVE== True: init_embedding()"
      ]
    },
    {
      "cell_type": "markdown",
      "source": [
        " test"
      ],
      "metadata": {
        "id": "TqFA9u7_M0s0"
      }
    },
    {
      "cell_type": "code",
      "execution_count": null,
      "metadata": {
        "id": "JqlNUzL9CMBm"
      },
      "outputs": [],
      "source": [
        "\"\"\"\n",
        "                example of use\n",
        "\"\"\"\n",
        "\n",
        "sentence = \"Yesterday Percival De Rolo, Franco and Roberto played the piano all the day\"\n",
        "word = \"Percival De Rolo\"\n",
        "# print((get_featureChar(sentence, word, mode= 'mean', verbose = True)))\n",
        "\n",
        "\n",
        "# frame_name = \"RETAIN_KEEP_SAVE-MONEY\"\n",
        "# print((get_featureEvent_meaning(frame_name, verbose = True)))"
      ]
    },
    {
      "cell_type": "markdown",
      "metadata": {
        "id": "3kiTpDFhTyD3"
      },
      "source": [
        "## Precompute  feature dictionary"
      ]
    },
    {
      "cell_type": "code",
      "execution_count": null,
      "metadata": {
        "id": "-N_YitgSTtkN"
      },
      "outputs": [],
      "source": [
        "import torch\n",
        "import torch.nn.functional as F\n",
        "\n",
        "def create_feature_dictionary_new(TL_char_dict):\n",
        "    \"\"\"\n",
        "    Creates feature dictionary for all the characters and their sentences representation.\n",
        "\n",
        "    Parameters:\n",
        "    - TL_char_dict: dictionary of characters and their sentences\n",
        "    - model: trained sentence embedding model\n",
        "    - max_len: maximum length of sentence representation among all characters (default=None)\n",
        "    - debug: flag to enable debugging information (default=False)\n",
        "\n",
        "    Returns:\n",
        "    - feature_dict: dictionary of characters and their sentence representation\n",
        "    - max_len: maximum length of sentence representation among all characters\n",
        "    \"\"\"\n",
        "    feature_dict = {}\n",
        "    character_representations = []\n",
        "\n",
        "    for character, sentences in TL_char_dict.items():\n",
        "      for sentence in sentences:\n",
        "        \n",
        "        character_representations.append(get_featureChar(sentence, character, mode= 'mean', verbose = False))\n",
        "      character_representations_t =   torch.tensor(character_representations).mean(dim=0)\n",
        "      feature_dict[character] = character_representations_t\n",
        "\n",
        "    return feature_dict\n"
      ]
    },
    {
      "cell_type": "code",
      "source": [
        "if SAVE ==True: \n",
        "  train_feature_dict = create_feature_dictionary_new(train_char_dict)\n",
        "  # test_feature_dict = create_feature_dictionary_new(test_char_dict)"
      ],
      "metadata": {
        "id": "jpRgxz73fEQH"
      },
      "execution_count": null,
      "outputs": []
    },
    {
      "cell_type": "code",
      "execution_count": null,
      "metadata": {
        "id": "7R-v4aWz01Is"
      },
      "outputs": [],
      "source": [
        "# a = []\n",
        "# b = []\n",
        "# for character, sentences in train_char_dict.items():\n",
        "#    a.append(len(sentences))\n",
        "# for character, sentences in test_char_dict.items():\n",
        "#    b.append(len(sentences))\n",
        "# max_len = max(max(a), max(b))"
      ]
    },
    {
      "cell_type": "markdown",
      "metadata": {
        "id": "41Yb8pmGcZDO"
      },
      "source": [
        "### Save feature"
      ]
    },
    {
      "cell_type": "code",
      "execution_count": null,
      "metadata": {
        "id": "Nz2z4nqncX5I"
      },
      "outputs": [],
      "source": [
        "\"\"\"train_feature_dict\n",
        "specify the file path to save your dictionary\"\"\"\n",
        "if summ == True:\n",
        "  file_name = \"summ_\"\n",
        "elif recap == True:\n",
        "  file_name = \"recap_\"\n",
        "\n",
        "if LOAD_FEAT == \"C1_C2_last_layer\" or LOAD_FEAT ==\"C1_C2_last_layer_cleand\":\n",
        "  file_name+= 'train_feature_dict_a1_a2_a3_C1-last_layer.pt'\n",
        "  train_save_file_path = os.path.join(str(GNN_features_PATH), file_name)\n",
        "elif LOAD_FEAT == \"C1\":\n",
        "  file_name+= 'train_feature_dict.pt'\n",
        "  train_save_file_path = os.path.join(str(GNN_features_PATH), file_name)\n",
        "elif LOAD_FEAT == \"C1_C2_all_layer\":\n",
        "  file_name+= 'train_feature_dict_a1_a2_a3_C1.pt'\n",
        "  train_save_file_path = os.path.join(str(GNN_features_PATH), file_name)\n",
        "\n",
        "\"\"\"save your dictionary to a file\"\"\"\n",
        "\n",
        "\n",
        "if SAVE ==True: \n",
        "  torch.save(train_feature_dict, train_save_file_path)"
      ]
    },
    {
      "cell_type": "code",
      "execution_count": null,
      "metadata": {
        "id": "76mPGYUDdhEt"
      },
      "outputs": [],
      "source": [
        "# test_feature_dict\n",
        "if summ == True:\n",
        "  file_name = \"summ_\"\n",
        "elif recap == True:\n",
        "  file_name = \"recap_\"\n",
        "# specify the file path to save your dictionary\n",
        "if LOAD_FEAT == \"C1_C2_last_layer\" or LOAD_FEAT ==\"C1_C2_last_layer_cleand\":\n",
        "  file_name+= 'test_feature_dict_a1_a2_C2-last_layer.pt'\n",
        "  test_save_file_path = os.path.join(str(GNN_features_PATH), file_name)\n",
        "elif LOAD_FEAT == \"C1\":\n",
        "  file_name+= 'test_feature_dict.pt'\n",
        "  test_save_file_path = os.path.join(str(GNN_features_PATH), file_name)\n",
        "elif LOAD_FEAT == \"C1_C2_all_layer\":\n",
        "  file_name+= 'test_feature_dict_a1_a2_C2.pt'\n",
        "  test_save_file_path = os.path.join(str(GNN_features_PATH), file_name)\n",
        "# save your dictionary to a file\n",
        "\n",
        "\n",
        "if SAVE ==True: \n",
        "  torch.save(test_feature_dict, test_save_file_path)"
      ]
    },
    {
      "cell_type": "markdown",
      "metadata": {
        "id": "-bZc5913dmKz"
      },
      "source": [
        "### Load features"
      ]
    },
    {
      "cell_type": "code",
      "execution_count": null,
      "metadata": {
        "id": "7r00N4vxdoui"
      },
      "outputs": [],
      "source": [
        "# load your dictionary from a file\n",
        "\n",
        "\n",
        "if SAVE_GRAPH==True or SAVE_GRAPH_EVENT_NODE== True:\n",
        "  train_feature_dict = torch.load(train_save_file_path)\n",
        "  test_feature_dict = torch.load(test_save_file_path)\n",
        "\n",
        "\n"
      ]
    },
    {
      "cell_type": "markdown",
      "metadata": {
        "id": "OlAwo8Y3d97a"
      },
      "source": [
        "#Event/Char Graph\n",
        "we use NetworkX library to create the graph. The graph has two types of nodes: char and event. The char nodes have the feature computed above . The event nodes have as feature the embedding of the meanings of the Verbaltas Frame. "
      ]
    },
    {
      "cell_type": "code",
      "execution_count": null,
      "metadata": {
        "id": "PmGblngveAIt"
      },
      "outputs": [],
      "source": [
        "\n",
        "def flatten(lst):\n",
        "    result = []\n",
        "    if lst == \"empty\":\n",
        "      return []\n",
        "    if isinstance(lst, str):\n",
        "      return [lst]\n",
        "    for item in lst:\n",
        "        if isinstance(item, list):\n",
        "            result.extend(flatten(item))\n",
        "        else:\n",
        "            result.append(item)\n",
        "    return result\n",
        "def build_event_graph(events_dict_list, feature_dict, debug = False ):\n",
        "    \"\"\"\n",
        "    Builds a graph of events, where each event is connected to its characters.\n",
        "    \"\"\"\n",
        "    graph = nx.Graph()\n",
        "    \n",
        "    for event_dict in events_dict_list:\n",
        "        event = event_dict['event']\n",
        "        event_node = f\"{event}_{events_dict_list.index(event_dict)}\" # Add the index of the event to the event node name to make it unique\n",
        "        FrameFeature = get_featureEvent(event, verbose = False ) \n",
        "        if FrameFeature ==None : continue\n",
        "        FrameFeature = torch.Tensor(FrameFeature) # Framefeature is always a single scalar, that's wht is max-len -1\n",
        "        graph.add_node(event_node, type=\"event\", Feature = FrameFeature , role=['None'])\n",
        "        \n",
        "        for char_tuple in event_dict['characters']:\n",
        "            char_item, VaRole = char_tuple\n",
        "            \n",
        "            char_node = f\"{char_item['token']}\"\n",
        "            if char_item['role']:\n",
        "              roles = flatten(char_item['role'])\n",
        "              if \"main\" in roles or \"antagonist\" in roles or \"npc\" in roles or \"ally\" in roles:\n",
        "                char_role = roles\n",
        "              else:\n",
        "                continue\n",
        "            else :\n",
        "              continue\n",
        "\n",
        "            CharFeature=feature_dict[char_node]\n",
        "            # VaRoleFeature = get_word_embedding(VaRole, sentence, model)\n",
        "            graph.add_node(char_node, type=\"char\",Feature=CharFeature, role=char_role)\n",
        "            graph.add_edge(char_node, event_node)\n",
        "            \n",
        "        \n",
        "    return graph\n"
      ]
    },
    {
      "cell_type": "markdown",
      "metadata": {
        "id": "Z8TB-xwmKQub"
      },
      "source": [
        "## Call build_event_graph"
      ]
    },
    {
      "cell_type": "code",
      "execution_count": null,
      "metadata": {
        "id": "nYbOenZ4eB5d"
      },
      "outputs": [],
      "source": [
        "if SAVE_GRAPH_EVENT_NODE == True:\n",
        "  train_G = build_event_graph(train_event_dict, train_feature_dict, debug = False)\n",
        "  test_G = build_event_graph(test_event_dict,test_feature_dict, debug = False)"
      ]
    },
    {
      "cell_type": "code",
      "execution_count": null,
      "metadata": {
        "id": "rkk_yoY_t27q"
      },
      "outputs": [],
      "source": [
        "\n",
        "\n",
        "import networkx as nx\n",
        "import json\n",
        "import numpy as np\n",
        "import torch\n",
        "\n",
        "from networkx.readwrite import json_graph\n",
        "\n",
        "def save_graph(G, save_graph_name):\n",
        "  # convert the graph to JSON-serializable format\n",
        "  data = json_graph.node_link_data(G)\n",
        "\n",
        "  # convert numpy arrays to lists\n",
        "  for node in data['nodes']:\n",
        "      node['Feature'] = node['Feature'].tolist()\n",
        "  # for edge in data['links']:\n",
        "  #     if isinstance(edge['VaRoleFeature'],float):\n",
        "  #       edge['VaRoleFeature'] = [edge['VaRoleFeature']]\n",
        "  #     else:\n",
        "  #       edge['VaRoleFeature'] = edge['VaRoleFeature'].tolist()\n",
        "\n",
        "  # save the data to a JSON file\n",
        "  with open(save_graph_name, 'w') as f:\n",
        "      json.dump(data, f)\n",
        "def load_graph_event_char(load_graph_name):\n",
        "  # load the data from the JSON file\n",
        "  with open(load_graph_name, 'r') as f:\n",
        "      data = json.load(f)\n",
        "\n",
        "  # convert the data back to a graph\n",
        "  G = json_graph.node_link_graph(data)\n",
        "\n",
        "  # convert lists back to numpy arrays\n",
        "  for node in G.nodes(data=True):\n",
        "      node[1]['Feature'] = np.array(node[1]['Feature'])\n",
        "  # for edge in G.edges(data=True):\n",
        "  #     edge[2]['VaRoleFeature'] = np.array(edge[2]['VaRoleFeature'])\n",
        "  return G\n"
      ]
    },
    {
      "cell_type": "markdown",
      "metadata": {
        "id": "xITKEiwUrrCO"
      },
      "source": [
        "### Save graph"
      ]
    },
    {
      "cell_type": "code",
      "execution_count": null,
      "metadata": {
        "id": "A09H21JGrrCO"
      },
      "outputs": [],
      "source": [
        "\n",
        "# save the graph as a GraphML file\n",
        "if summ == True:\n",
        "  g_file_name = \"summ_\"\n",
        "elif recap == True:\n",
        "  g_file_name = \"recap_\"\n",
        "  \n",
        "if SAVE_GRAPH_EVENT_NODE == True:\n",
        "  if LOAD_FEAT == \"C1_C2_last_layer\" :\n",
        "    g_file_name += \"C1_C2_train_G-last_layer.json\"\n",
        "    save_graph_name = os.path.join(str(GNN_features_PATH), g_file_name)\n",
        "  elif LOAD_FEAT == \"C1\":\n",
        "    g_file_name += \"C1_train_G.json\"\n",
        "    save_graph_name = os.path.join(str(GNN_features_PATH), g_file_name)\n",
        "  elif LOAD_FEAT == \"C1_C2_all_layer\":\n",
        "    g_file_name += \"C1_C2_train_G-all_layers.json\"\n",
        "    save_graph_name = os.path.join(str(GNN_features_PATH), g_file_name)\n",
        "  elif LOAD_FEAT ==\"C1_C2_last_layer_cleand\":\n",
        "    g_file_name += \"C1_C2_train_G-last_layer-cleands.json\"\n",
        "    save_graph_name = os.path.join(str(GNN_features_PATH), g_file_name)\n",
        "  save_graph(train_G, save_graph_name)"
      ]
    },
    {
      "cell_type": "code",
      "execution_count": null,
      "metadata": {
        "id": "cin0o27ErrCO"
      },
      "outputs": [],
      "source": [
        "# save the graph as a GraphML file\n",
        "if summ == True:\n",
        "  g_file_name = \"summ_\"\n",
        "elif recap == True:\n",
        "  g_file_name = \"recap_\"\n",
        "  \n",
        "if SAVE_GRAPH_EVENT_NODE == True:\n",
        "  if LOAD_FEAT == \"C1_C2_last_layer\":\n",
        "    g_file_name += \"C1_C2_test_G-last_layer.json\"\n",
        "    save_graph_name = os.path.join(str(GNN_features_PATH), g_file_name)\n",
        "  elif LOAD_FEAT == \"C1\":\n",
        "    g_file_name += \"C1_test_G.json\"\n",
        "    save_graph_name = os.path.join(str(GNN_features_PATH), g_file_name)\n",
        "  elif LOAD_FEAT == \"C1_C2_all_layer\":\n",
        "    g_file_name += \"C1_C2_test_G-all_layers.json\"\n",
        "    save_graph_name = os.path.join(str(GNN_features_PATH), g_file_name)\n",
        "  elif LOAD_FEAT ==\"C1_C2_last_layer_cleand\":\n",
        "    g_file_name += \"C1_C2_test_G-last_layer-cleand.json\"\n",
        "    save_graph_name = os.path.join(str(GNN_features_PATH), g_file_name)\n",
        "  save_graph(test_G, save_graph_name)"
      ]
    },
    {
      "cell_type": "markdown",
      "metadata": {
        "id": "7rFuHRrzrrCP"
      },
      "source": [
        "### Load graph"
      ]
    },
    {
      "cell_type": "code",
      "execution_count": null,
      "metadata": {
        "id": "KRbrwYIbmDh4"
      },
      "outputs": [],
      "source": [
        "if summ == True:\n",
        "  g_file_name = \"summ_\"\n",
        "elif recap == True:\n",
        "  g_file_name = \"recap_\"\n",
        "  \n",
        "if LOAD_FEAT == \"C1_C2_last_layer\" :\n",
        "  g_file_name += \"C1_C2_train_G-last_layer.json\"\n",
        "  load_graph_name = os.path.join(str(GNN_features_PATH), g_file_name)\n",
        "elif LOAD_FEAT == \"C1\":\n",
        "  g_file_name += \"C1_train_G.json\"\n",
        "  load_graph_name = os.path.join(str(GNN_features_PATH), g_file_name)\n",
        "elif LOAD_FEAT == \"C1_C2_all_layer\":\n",
        "  g_file_name += \"C1_C2_train_G-all_layers.json\"\n",
        "  load_graph_name = os.path.join(str(GNN_features_PATH), g_file_name)\n",
        "elif LOAD_FEAT ==\"C1_C2_last_layer_cleand\":\n",
        "    g_file_name += \"C1_C2_train_G-last_layer-cleands.json\"\n",
        "    load_graph_name = os.path.join(str(GNN_features_PATH), g_file_name)\n",
        "train_G = load_graph_event_char(load_graph_name)"
      ]
    },
    {
      "cell_type": "code",
      "execution_count": null,
      "metadata": {
        "id": "MPe-YK6BmDh5"
      },
      "outputs": [],
      "source": [
        "if summ == True:\n",
        "  g_file_name = \"summ_\"\n",
        "elif recap == True:\n",
        "  g_file_name = \"recap_\"\n",
        "  \n",
        "if LOAD_FEAT == \"C1_C2_last_layer\" :\n",
        "  g_file_name += \"C1_C2_test_G-last_layer.json\"\n",
        "  load_graph_name = os.path.join(str(GNN_features_PATH), g_file_name)\n",
        "elif LOAD_FEAT == \"C1\":\n",
        "  g_file_name += \"C1_test_G.json\"\n",
        "  load_graph_name = os.path.join(str(GNN_features_PATH), g_file_name)\n",
        "elif LOAD_FEAT == \"C1_C2_all_layer\":\n",
        "  g_file_name += \"C1_C2_test_G-all_layers.json\"\n",
        "  load_graph_name = os.path.join(str(GNN_features_PATH), g_file_name)\n",
        "elif LOAD_FEAT ==\"C1_C2_last_layer_cleand\":\n",
        "    g_file_name += \"C1_C2_test_G-last_layer-cleand.json\"\n",
        "    load_graph_name = os.path.join(str(GNN_features_PATH), g_file_name)\n",
        "test_G = load_graph_event_char(load_graph_name)"
      ]
    },
    {
      "cell_type": "markdown",
      "source": [
        "### Print graph"
      ],
      "metadata": {
        "id": "0GdZo3U3sO5o"
      }
    },
    {
      "cell_type": "code",
      "execution_count": null,
      "metadata": {
        "id": "9VmQH3h8eHfr"
      },
      "outputs": [],
      "source": [
        "def print_graph(G):\n",
        "  node_colors = []\n",
        "  for node in G.nodes:\n",
        "      if node in G.nodes(data=True):\n",
        "          node_data = G.nodes[node]\n",
        "          t = node_data.get('type')\n",
        "          if t == 'event':\n",
        "            node_colors.append('gray')\n",
        "          else:\n",
        "            role = node_data.get('role')\n",
        "            if role:\n",
        "              if 'main' in role:\n",
        "                  node_colors.append('blue')\n",
        "              elif 'ally' in role:\n",
        "                  node_colors.append('cyan')\n",
        "              elif 'antagonist' in role:\n",
        "                  node_colors.append('red')\n",
        "              elif 'npc' in role:\n",
        "                  node_colors.append('cyan')\n",
        "              else:\n",
        "                node_colors.append('purple')\n",
        "            else:\n",
        "                node_colors.append('green') \n",
        "\n",
        "  # draw the graph\n",
        "  pos = nx.fruchterman_reingold_layout(G)\n",
        "  plt.figure(figsize=(40,30))\n",
        "  degree_centrality = nx.degree_centrality(G)\n",
        "\n",
        "  # set node size based on degree centrality\n",
        "  node_size = [v * 1000 for v in degree_centrality.values()]\n",
        "\n",
        "  nx.draw(G, pos, node_color=node_colors ,node_size=node_size, with_labels=True,  font_size=7)\n",
        "  plt.show()"
      ]
    },
    {
      "cell_type": "code",
      "execution_count": null,
      "metadata": {
        "id": "BmdKEqhi7mdY"
      },
      "outputs": [],
      "source": [
        "#  print_graph(train_G)"
      ]
    },
    {
      "cell_type": "code",
      "execution_count": null,
      "metadata": {
        "id": "7_oEOFRm7oaL"
      },
      "outputs": [],
      "source": [
        "#  print_graph(test_G)"
      ]
    },
    {
      "cell_type": "markdown",
      "metadata": {
        "id": "ob77pa2fPt_q"
      },
      "source": [
        "#Char Graph\n",
        "we use NetworkX library to create the graph. The graph has only Char nodes. The char nodes have the feature computed above . The edges are the Event nodes of previopus Graph and  have as feature the embedding of the meanings of the Verbaltas Frame(as before). "
      ]
    },
    {
      "cell_type": "markdown",
      "metadata": {
        "id": "E-aNr_fNRQ6R"
      },
      "source": [
        "##build_event_graph_solo_char"
      ]
    },
    {
      "cell_type": "code",
      "execution_count": null,
      "metadata": {
        "id": "0y-nwreHP16E"
      },
      "outputs": [],
      "source": [
        "\n",
        "def build_event_graph_solo_char(events_dict_list, feature_dict, debug = False, verbose = False ):\n",
        "    \"\"\"\n",
        "    Builds a graph of events, where each event is connected to its characters.\n",
        "    \"\"\"\n",
        "    graph = nx.Graph()\n",
        "    \n",
        "    for event_dict in events_dict_list:\n",
        "        event = event_dict['event']\n",
        "        event_node = f\"{event}_{events_dict_list.index(event_dict)}\" # Add the index of the event to the event node name to make it unique\n",
        "        # sentence = get_row_by_word(file_name, event) #legge il file di verbatlas per avere la descrizione del event frame\n",
        "        # if debug: print(f\"[0]build_event_graph: event: {event},  sentence:  {sentence}\")\n",
        "        # if sentence==None: continue\n",
        "        FrameFeature = get_featureEvent_meaning(event, verbose = verbose ) \n",
        "        if FrameFeature ==None : continue\n",
        "        FrameFeature = torch.Tensor(FrameFeature) # Framefeature is always a single scalar, that's wht is max-len -1\n",
        "        char_edge_list=[]\n",
        "        for char_tuple in event_dict['characters']:\n",
        "            char_item, VaRole = char_tuple\n",
        "           \n",
        "            char_node = f\"{char_item['token']}\"\n",
        "            if char_item['role']:\n",
        "              roles = flatten(char_item['role'])\n",
        "              if \"main\" in roles or \"antagonist\" in roles or \"npc\" in roles or \"ally\" in roles:\n",
        "                char_role = roles\n",
        "              else:\n",
        "                continue\n",
        "            else :\n",
        "              continue\n",
        "\n",
        "            CharFeature=feature_dict[char_node]\n",
        "            # VaRoleFeature = get_word_embedding(VaRole, sentence, model)\n",
        "            graph.add_node(char_node, type=\"char\",Feature=CharFeature, role=char_role)\n",
        "            char_edge_list.append(char_node)\n",
        "        for i in range(len(char_edge_list)):\n",
        "          for j in range(i+1, len(char_edge_list)):\n",
        "              graph.add_edge(char_edge_list[i], char_edge_list[j], Feature = FrameFeature)\n",
        "\n",
        "        \n",
        "    return graph\n"
      ]
    },
    {
      "cell_type": "markdown",
      "metadata": {
        "id": "38KSP5dTP16F"
      },
      "source": [
        "## call build_event_graph"
      ]
    },
    {
      "cell_type": "code",
      "execution_count": null,
      "metadata": {
        "id": "EI86wdmLP16F"
      },
      "outputs": [],
      "source": [
        "if SAVE_GRAPH == True:\n",
        "  train_G_solo_c = build_event_graph_solo_char(train_event_dict, train_feature_dict, debug = False, verbose = False)\n",
        "  test_G_solo_c = build_event_graph_solo_char(test_event_dict , test_feature_dict, debug = False, verbose = False)"
      ]
    },
    {
      "cell_type": "code",
      "execution_count": null,
      "metadata": {
        "id": "-3EWSRy7qsk2"
      },
      "outputs": [],
      "source": [
        "\n",
        "\n",
        "import networkx as nx\n",
        "import json\n",
        "import numpy as np\n",
        "import torch\n",
        "\n",
        "from networkx.readwrite import json_graph\n",
        "\n",
        "def save_graph(G, save_graph_name):\n",
        "  # convert the graph to JSON-serializable format\n",
        "  data = json_graph.node_link_data(G)\n",
        "  print(data.keys())\n",
        "  # convert numpy arrays to lists\n",
        "  for node in data['nodes']:\n",
        "      node['Feature'] = node['Feature'].tolist()\n",
        "  for edge in data['links']:\n",
        "      edge['Feature'] = edge['Feature'].tolist()\n",
        "\n",
        "  # save the data to a JSON file\n",
        "  with open(save_graph_name, 'w') as f:\n",
        "      json.dump(data, f)\n",
        "def load_graph(load_graph_name):\n",
        "  # load the data from the JSON file\n",
        "  with open(load_graph_name, 'r') as f:\n",
        "      data = json.load(f)\n",
        "\n",
        "  # convert the data back to a graph\n",
        "  G = json_graph.node_link_graph(data)\n",
        "\n",
        "  # convert lists back to numpy arrays\n",
        "  for node in G.nodes(data=True):\n",
        "      node[1]['Feature'] = np.array(node[1]['Feature'])\n",
        "  for edge in G.edges(data=True):\n",
        "      edge[2]['Feature'] = np.array(edge[2]['Feature'])\n",
        "  return G\n"
      ]
    },
    {
      "cell_type": "markdown",
      "metadata": {
        "id": "t-m_XviltKfZ"
      },
      "source": [
        "### Save graph"
      ]
    },
    {
      "cell_type": "code",
      "execution_count": null,
      "metadata": {
        "id": "Z6izzQPHsSAd"
      },
      "outputs": [],
      "source": [
        "if summ == True:\n",
        "  g_file_name = \"summ_\"\n",
        "elif recap == True:\n",
        "  g_file_name = \"recap_\"\n",
        "  \n",
        "# save the graph as a GraphML file\n",
        "if SAVE_GRAPH == True:\n",
        "  if LOAD_FEAT == \"C1_C2_last_layer\":\n",
        "    g_file_name += \"C1_C2_train_G_solo_c-last_layer.json\"\n",
        "    save_graph_name = os.path.join(str(GNN_features_PATH), g_file_name)\n",
        "  elif LOAD_FEAT == \"C1\":\n",
        "    g_file_name += \"C1_train_G_solo_c.json\"\n",
        "    save_graph_name = os.path.join(str(GNN_features_PATH), g_file_name)\n",
        "  elif LOAD_FEAT == \"C1_C2_all_layer\":\n",
        "    g_file_name += \"C1_C2_train_G_solo_c-all_layers.json\"\n",
        "    save_graph_name = os.path.join(str(GNN_features_PATH), g_file_name)\n",
        "  elif LOAD_FEAT == \"C1_C2_last_layer_cleand\" :\n",
        "    g_file_name += \"C1_C2_train_G_solo_c-last_layers_cleand.json\"\n",
        "    save_graph_name = os.path.join(str(GNN_features_PATH), g_file_name)\n",
        "  save_graph(train_G_solo_c, save_graph_name)"
      ]
    },
    {
      "cell_type": "code",
      "execution_count": null,
      "metadata": {
        "id": "byRJKEGGsUTP"
      },
      "outputs": [],
      "source": [
        "if summ == True:\n",
        "  g_file_name = \"summ_\"\n",
        "elif recap == True:\n",
        "  g_file_name = \"recap_\"\n",
        "  \n",
        "# save the graph as a GraphML file\n",
        "\n",
        "if SAVE_GRAPH == True:\n",
        "  if LOAD_FEAT == \"C1_C2_last_layer\":\n",
        "    g_file_name += \"C1_C2_test_G_solo_c-last_layer.json\"\n",
        "    save_graph_name = os.path.join(str(GNN_features_PATH), g_file_name)\n",
        "  elif LOAD_FEAT == \"C1\":\n",
        "    g_file_name += \"C1_test_G_solo_c.json\"\n",
        "    save_graph_name = os.path.join(str(GNN_features_PATH), g_file_name)\n",
        "  elif LOAD_FEAT == \"C1_C2_all_layer\":\n",
        "    g_file_name += \"C1_C2_test_G_solo_c-all_layers.json\"\n",
        "    save_graph_name = os.path.join(str(GNN_features_PATH), g_file_name)\n",
        "  elif LOAD_FEAT == \"C1_C2_last_layer_cleand\" :\n",
        "    g_file_name += \"C1_C2_test_G_solo_c-last_layers_cleand.json\"\n",
        "    save_graph_name = os.path.join(str(GNN_features_PATH), g_file_name)\n",
        "  save_graph(train_G_solo_c, save_graph_name)"
      ]
    },
    {
      "cell_type": "markdown",
      "metadata": {
        "id": "MRrZE-BhtMt2"
      },
      "source": [
        "### Load graph"
      ]
    },
    {
      "cell_type": "code",
      "execution_count": null,
      "metadata": {
        "id": "PkP__5FJtPv7"
      },
      "outputs": [],
      "source": [
        "if summ == True:\n",
        "  g_file_name = \"summ_\"\n",
        "elif recap == True:\n",
        "  g_file_name = \"recap_\"\n",
        "  \n",
        "if LOAD_FEAT == \"C1_C2_last_layer\":\n",
        "  g_file_name += \"C1_C2_train_G_solo_c-last_layer.json\"\n",
        "  load_graph_name = os.path.join(str(GNN_features_PATH), g_file_name)\n",
        "elif LOAD_FEAT == \"C1\":\n",
        "  g_file_name += \"C1_train_G_solo_c.json\"\n",
        "  load_graph_name = os.path.join(str(GNN_features_PATH), g_file_name)\n",
        "elif LOAD_FEAT == \"C1_C2_all_layer\":\n",
        "  g_file_name += \"C1_C2_train_G_solo_c-all_layers.json\"\n",
        "  load_graph_name = os.path.join(str(GNN_features_PATH), g_file_name)\n",
        "elif LOAD_FEAT == \"C1_C2_last_layer_cleand\" :\n",
        "    g_file_name += \"C1_C2_train_G_solo_c-last_layers_cleand.json\"\n",
        "    load_graph_name = os.path.join(str(GNN_features_PATH), g_file_name)\n",
        "train_G_solo_c = load_graph(load_graph_name)"
      ]
    },
    {
      "cell_type": "code",
      "execution_count": null,
      "metadata": {
        "id": "fXMZOjAptZ30"
      },
      "outputs": [],
      "source": [
        "if summ == True:\n",
        "  g_file_name = \"summ_\"\n",
        "elif recap == True:\n",
        "  g_file_name = \"recap_\"\n",
        "  \n",
        "if LOAD_FEAT == \"C1_C2_last_layer\":\n",
        "  g_file_name += \"C1_C2_test_G_solo_c-last_layer.json\"\n",
        "  load_graph_name = os.path.join(str(GNN_features_PATH), g_file_name)\n",
        "elif LOAD_FEAT == \"C1\":\n",
        "  g_file_name += \"C1_test_G_solo_c.json\"\n",
        "  load_graph_name = os.path.join(str(GNN_features_PATH), g_file_name)\n",
        "elif LOAD_FEAT == \"C1_C2_all_layer\":\n",
        "  g_file_name += \"C1_C2_test_G_solo_c-all_layers.json\"\n",
        "  load_graph_name = os.path.join(str(GNN_features_PATH), g_file_name)\n",
        "elif LOAD_FEAT == \"C1_C2_last_layer_cleand\" :\n",
        "    g_file_name += \"C1_C2_test_G_solo_c-last_layers_cleand.json\"\n",
        "    load_graph_name = os.path.join(str(GNN_features_PATH), g_file_name)\n",
        "test_G_solo_c = load_graph(load_graph_name)"
      ]
    },
    {
      "cell_type": "markdown",
      "source": [
        "# Train Utilities"
      ],
      "metadata": {
        "id": "iMw1sVbCv2Xh"
      }
    },
    {
      "cell_type": "markdown",
      "source": [
        "## Compute class weights"
      ],
      "metadata": {
        "id": "HkdmoOs6kbF1"
      }
    },
    {
      "cell_type": "code",
      "source": [
        "def compute_class_weights(labels):\n",
        "  class_freq={}\n",
        "  total = len(labels)\n",
        "  for l in labels:\n",
        "    if l not in class_freq.keys():\n",
        "      class_freq[l] = 0\n",
        "    else:\n",
        "      class_freq[l] = class_freq[l]+1\n",
        "  \n",
        "  # print(sorted(class_freq.keys()))\n",
        "  class_weights = []\n",
        "  for class_ in sorted(class_freq.keys()):\n",
        "    freq = class_freq[class_]\n",
        "    class_weights.append(total/freq)\n",
        "  # print(\"class_freq\",class_freq)\n",
        "  # print(\"total\",total)\n",
        "  # print(\"class_weights\",class_weights)\n",
        "  return class_weights\n"
      ],
      "metadata": {
        "id": "fyrpeYbn3ozs"
      },
      "execution_count": null,
      "outputs": []
    },
    {
      "cell_type": "markdown",
      "source": [
        "## Labels Computation"
      ],
      "metadata": {
        "id": "XmiSPxFT4H91"
      }
    },
    {
      "cell_type": "markdown",
      "metadata": {
        "id": "jnV87RqO9i7j"
      },
      "source": [
        "### get_labels solo char"
      ]
    },
    {
      "cell_type": "code",
      "source": [
        "\n",
        "\n",
        "\n",
        "def get_label_main_npc(G):\n",
        "  labels=[]\n",
        "  for node in G.nodes.data():\n",
        "    name = node[0]\n",
        "    dict_ = node[1]\n",
        "    role = dict_['role']\n",
        "    \n",
        "    if \"main\" in flatten(role):\n",
        "        labels.append(0)\n",
        "        print(name, flatten(role), 0)\n",
        "    else:\n",
        "      labels.append(1)\n",
        "      print(name, flatten(role), 1)\n",
        "  return labels\n",
        "    \n",
        "\n",
        "# train_labels = get_label_main_npc(train_G_solo_c)\n",
        "\n",
        "# c1 = 0\n",
        "# c2=0\n",
        "# for l in train_labels:\n",
        "#   if l ==0: c1+=1\n",
        "#   else: c2+=1\n",
        "# print(c1,c2)"
      ],
      "metadata": {
        "id": "srzf2DBWwC7l"
      },
      "execution_count": null,
      "outputs": []
    },
    {
      "cell_type": "code",
      "source": [
        "def get_label_ally_antagonist(G):\n",
        "  labels=[]\n",
        "  for node in G.nodes.data():\n",
        "    name = node[0]\n",
        "    dict_ = node[1]\n",
        "    role = dict_['role']\n",
        "    \n",
        "    if \"ally\" in flatten(role):\n",
        "        labels.append(0)\n",
        "        print(name, flatten(role), 0)\n",
        "    elif \"antagonist\" in flatten(role):\n",
        "      labels.append(1)\n",
        "      print(name, flatten(role), 1)\n",
        "    else: \n",
        "      labels.append(0)\n",
        "      print(name, flatten(role), 0)\n",
        "  return labels\n",
        "    \n",
        "\n",
        "# train_labels = get_label_ally_antagonist(train_G_solo_c)\n",
        "\n",
        "# c1 = 0\n",
        "# c2=0\n",
        "# for l in train_labels:\n",
        "#   if l ==0: c1+=1\n",
        "#   else: c2+=1\n",
        "# print(c1,c2)"
      ],
      "metadata": {
        "id": "-nFVEqgh4N7J"
      },
      "execution_count": null,
      "outputs": []
    },
    {
      "cell_type": "code",
      "source": [
        "def get_labels_all(G, debug = False):\n",
        "  labels=[]\n",
        "  for node in G.nodes.data():\n",
        "    name = node[0]\n",
        "    dict_ = node[1]\n",
        "    role = dict_['role']\n",
        "    if \"main\" in flatten(role):\n",
        "      labels.append(0)\n",
        "      if debug:print(name, flatten(role), 0)\n",
        "    elif \"ally\" in flatten(role):\n",
        "        labels.append(1)\n",
        "        if debug:print(name, flatten(role), 1)\n",
        "    elif \"antagonist\" in flatten(role):\n",
        "      labels.append(2)\n",
        "      if debug:print(name, flatten(role), 2)\n",
        "    else: \n",
        "      labels.append(3)\n",
        "      if debug:print(name, flatten(role), 3)\n",
        "  return labels\n",
        "    \n",
        "\n",
        "# train_labels = get_labels_all(train_G_solo_c, debug = True)\n",
        "# c0 = 0\n",
        "# c1 = 0\n",
        "# c2=0\n",
        "# c3 =0\n",
        "# for l in train_labels:\n",
        "#   if l ==0: c0+=1\n",
        "#   elif l==1: c1+=1\n",
        "#   elif l==2 : c2+=1\n",
        "#   else: c3+=1\n",
        "# print(\"main: \",c0,\"ally: \",c1,\"antagonist:\",c2,\"other:\",c3)"
      ],
      "metadata": {
        "id": "LMFdnr8GdVgi"
      },
      "execution_count": null,
      "outputs": []
    },
    {
      "cell_type": "markdown",
      "source": [
        "### get labels char + event"
      ],
      "metadata": {
        "id": "rLKwDuDNsHqe"
      }
    },
    {
      "cell_type": "code",
      "source": [
        "def get_label_main_npc_event(G,debug = False):\n",
        "  labels=[]\n",
        "  for node in G.nodes.data():\n",
        "    name = node[0]\n",
        "    dict_ = node[1]\n",
        "    role = dict_['role']\n",
        "    \n",
        "    if \"main\" in flatten(role):\n",
        "        labels.append(1)\n",
        "        if debug: print(name, flatten(role), 1)\n",
        "    elif \"None\" in role:\n",
        "      labels.append(0)\n",
        "      if debug: print(name, flatten(role), 0)\n",
        "    else:\n",
        "      labels.append(2)\n",
        "      if debug: print(name, flatten(role), 2)\n",
        "  return labels\n",
        "    \n",
        "\n",
        "train_labels = get_label_main_npc_event(train_G,debug = False)\n",
        "\n",
        "c1 = 0\n",
        "c2=0\n",
        "c3 =0\n",
        "for l in train_labels:\n",
        "  if l ==0: c1+=1\n",
        "  elif l==1: c2+=1\n",
        "  else: c3+=1\n",
        "print(\"event: \",c1,\"main:\",c2,\"npc:\",c3)"
      ],
      "metadata": {
        "id": "_IRavi6hwLFW",
        "colab": {
          "base_uri": "https://localhost:8080/"
        },
        "outputId": "e24c392b-1081-4e4a-9eba-d78c6637715b"
      },
      "execution_count": null,
      "outputs": [
        {
          "output_type": "stream",
          "name": "stdout",
          "text": [
            "event:  1378 main: 16 npc: 83\n"
          ]
        }
      ]
    },
    {
      "cell_type": "code",
      "source": [
        "def get_labels_all_event(G,debug = False):\n",
        "  labels=[]\n",
        "  for node in G.nodes.data():\n",
        "    name = node[0]\n",
        "    dict_ = node[1]\n",
        "    role = dict_['role']\n",
        "    if \"main\" in flatten(role):\n",
        "      labels.append(1)\n",
        "      if debug:print(name, flatten(role), 1)\n",
        "    elif \"None\" in role:\n",
        "      labels.append(0)\n",
        "      if debug: print(name, flatten(role), 0)\n",
        "    elif \"ally\" in flatten(role):\n",
        "        labels.append(2)\n",
        "        if debug:print(name, flatten(role), 2)\n",
        "    elif \"antagonist\" in flatten(role):\n",
        "      labels.append(3)\n",
        "      if debug:print(name, flatten(role), 3)\n",
        "    else: \n",
        "      labels.append(4)\n",
        "      if debug:print(name, flatten(role), 4)\n",
        "  return labels\n",
        "    \n",
        "\n",
        "train_labels = get_labels_all_event(test_G,debug = True)\n",
        "c0 = 0\n",
        "c1 = 0\n",
        "c2=0\n",
        "c3 =0\n",
        "c4 = 0\n",
        "for l in train_labels:\n",
        "  if l ==0: c0+=1\n",
        "  elif l==1: c1+=1\n",
        "  elif l==2: c2+=1\n",
        "  elif l==3 : c3+=1\n",
        "  else: c4+=1\n",
        "print(\"Event\",c0,\"main: \",c1,\"ally: \",c2,\"antagonist:\",c3,\"other:\",c4)"
      ],
      "metadata": {
        "id": "5PLArTCPsQTF"
      },
      "execution_count": null,
      "outputs": []
    },
    {
      "cell_type": "markdown",
      "metadata": {
        "id": "ctOrHiKE6U54"
      },
      "source": [
        "# MyDataset\n",
        "\n",
        "\n",
        "\n"
      ]
    },
    {
      "cell_type": "code",
      "execution_count": null,
      "metadata": {
        "id": "5Ks19nX96VJX"
      },
      "outputs": [],
      "source": [
        "class MyDataset(torch.utils.data.Dataset):\n",
        "    \"\"\"\n",
        "    MyDataset class takes the training or test graph (G), labels, and attributes as inputs.\n",
        "    It converts the labels to a tensor, converts the attributes to float and stores the labels.\n",
        "    It populates the data object with the graph and its attributes.\n",
        "    Finally, it collates the data.\n",
        "    \"\"\"\n",
        "    def __init__(self, G, labels, attributes, num_classes):\n",
        "        y = torch.from_numpy(np.asarray(labels)).type(torch.long)\n",
        "        \n",
        "        # create a list of node types (either \"event\" or \"char\")\n",
        "        node_types = []\n",
        "        for node in G.nodes():\n",
        "            if G.nodes[node]['type'] == 'event':\n",
        "                node_types.append(0)\n",
        "            else:\n",
        "                node_types.append(1)\n",
        "        node_types = torch.tensor(node_types)\n",
        "        \n",
        "        data = from_networkx(G, attributes)\n",
        "        data.x = data.x.float()\n",
        "        data.y = y.clone().detach()\n",
        "        data.node_types = node_types # add node types as a feature\n",
        "        data.num_classes = num_classes\n",
        "\n",
        "        self.data = data\n",
        "\n",
        "    def __len__(self):\n",
        "        return 1\n",
        "\n",
        "    def __getitem__(self, idx):\n",
        "        return self.data\n"
      ]
    },
    {
      "cell_type": "markdown",
      "source": [
        "# Train and Test"
      ],
      "metadata": {
        "id": "3wSinr9kiFyq"
      }
    },
    {
      "cell_type": "markdown",
      "source": [
        "## Char Train and Test\n"
      ],
      "metadata": {
        "id": "O06CG7ZBbBXX"
      }
    },
    {
      "cell_type": "code",
      "source": [
        "from sklearn.metrics import precision_score, recall_score, f1_score,     \\\n",
        "    average_precision_score, multilabel_confusion_matrix, hamming_loss,  \\\n",
        "    jaccard_score, label_ranking_loss\n",
        "    \n",
        "\n",
        "\n",
        "def train_TEST_2_5(model, data, epochs,class_weights, debug = False):\n",
        "  class_weights = torch.FloatTensor(class_weights).to(device)\n",
        "  criterion = torch.nn.CrossEntropyLoss(weight = class_weights)\n",
        "  optimizer = torch.optim.Adam(model.parameters(), lr=0.02)\n",
        "\n",
        "  # Calculate accuracy\n",
        "  def accuracy(pred_y, y):\n",
        "      return (pred_y == y).sum() / len(y)\n",
        "\n",
        "  # Data for animations\n",
        "  embeddings = []\n",
        "  losses = []\n",
        "  accuracies = []\n",
        "  outputs = []\n",
        "\n",
        "  # Training loop\n",
        "  for epoch in range(epochs):\n",
        "      # Clear gradients\n",
        "      optimizer.zero_grad()\n",
        "\n",
        "      # Forward pass\n",
        "      h, z = model(data.x, data.edge_index)\n",
        "\n",
        "      # Calculate loss function\n",
        "      loss = criterion(z, data.y)\n",
        "\n",
        "      # Calculate accuracy\n",
        "      acc = accuracy(z.argmax(dim=1), data.y)\n",
        "\n",
        "      # Compute gradients\n",
        "      loss.backward()\n",
        "\n",
        "      # Tune parameters\n",
        "      optimizer.step()\n",
        "\n",
        "      # Store data for animations\n",
        "      embeddings.append(h)\n",
        "      losses.append(loss)\n",
        "      accuracies.append(acc)\n",
        "      outputs.append(z.argmax(dim=1))\n",
        "\n",
        "      # Print metrics every 10 epochs\n",
        "      if epoch % 50 == 0:\n",
        "          print(f'Epoch {epoch:>3} | Loss: {loss:.2f} | Acc: {acc*100:.2f}%')\n",
        "def test_TEST_2_5(model, data,  classes = [\"Main\",\"ally\", \"antagonist\", \"other\"]):\n",
        "  model.eval()\n",
        "\n",
        "  labels      = data.y\n",
        "  targets = labels\n",
        "  average = \"macro\"\n",
        "  h,z = model(data.x, data.edge_index)\n",
        "  output = z.argmax(dim=1)\n",
        "\n",
        "  # metrics_results = {\n",
        "  #                           \"precision\":precision_score(targets, output, average = average, zero_division=1),    \\\n",
        "  #                           \"recall\": recall_score(targets, output, average = average, zero_division=1),         \\\n",
        "  #                           \"f1-score\": f1_score(targets, output, average= average, zero_division=1),            \\\n",
        "  #                           # \"average_precision\": average_precision_score(targets, output, average= average),     \\\n",
        "  #                           # \"ranking_loss\": label_ranking_loss(targets, output),                                 \\\n",
        "  #                           \"hamming_loss\": hamming_loss(targets,output),                                        \\\n",
        "  #                           \"jaccard_score\": jaccard_score(targets, output, average= average, zero_division=1),  \\\n",
        "  #                           # \"confusion matrices\": self._compute_cms(targets, output, labels, save_results)\n",
        "     \n",
        "  #           }\n",
        "  # print(metrics_results)\n",
        "  print(classification_report(labels.to('cpu'), output.to('cpu'), target_names=classes))\n",
        "  cm = confusion_matrix(labels.to('cpu'), output.to('cpu'), normalize='true')\n",
        "  sn.heatmap(cm, annot=True, fmt=\".3f\", linewidths=.5, square = True, \\\n",
        "             cmap = 'BuPu', xticklabels = classes, yticklabels = classes)"
      ],
      "metadata": {
        "id": "B3XzPbjPbBol"
      },
      "execution_count": null,
      "outputs": []
    },
    {
      "cell_type": "markdown",
      "source": [
        "## Event/Char Train and Test\n"
      ],
      "metadata": {
        "id": "I8rdQP3ywzgl"
      }
    },
    {
      "cell_type": "code",
      "source": [
        "def train_TEST_1_8(model, data, epochs, class_weights, debug = False):\n",
        "  class_weights = torch.FloatTensor(class_weights).to(device)\n",
        "  criterion = torch.nn.CrossEntropyLoss(weight = class_weights)\n",
        "  optimizer = torch.optim.SGD(model.parameters(), lr=0.02)\n",
        "\n",
        "  # Calculate accuracy\n",
        "  def accuracy(pred_y, y):\n",
        "      return (pred_y == y).sum() / len(y)\n",
        "\n",
        "  # Data for animations\n",
        "  embeddings = []\n",
        "  losses = []\n",
        "  accuracies = []\n",
        "  outputs = []\n",
        "\n",
        "  # Training loop\n",
        "  for epoch in range(epochs):\n",
        "      # Clear gradients\n",
        "      optimizer.zero_grad()\n",
        "\n",
        "      # Forward pass\n",
        "      h, z = model(data.x, data.edge_index)\n",
        "\n",
        "      # Calculate loss function\n",
        "      loss = criterion(z, data.y)\n",
        "\n",
        "      # Calculate accuracy\n",
        "      acc = accuracy(z.argmax(dim=1), data.y)\n",
        "\n",
        "      # Compute gradients\n",
        "      loss.backward()\n",
        "\n",
        "      # Tune parameters\n",
        "      optimizer.step()\n",
        "\n",
        "      # Store data for animations\n",
        "      embeddings.append(h)\n",
        "      losses.append(loss)\n",
        "      accuracies.append(acc)\n",
        "      outputs.append(z.argmax(dim=1))\n",
        "\n",
        "      # Print metrics every 10 epochs\n",
        "      if epoch % 50 == 0:\n",
        "          print(f'Epoch {epoch:>3} | Loss: {loss:.2f} | Acc: {acc*100:.2f}%')\n",
        "def test_TEST_1_8(model, data,classes = [\"Main\",\"ally\", \"antagonist\", \"other\"]):\n",
        "  model.eval()\n",
        "\n",
        "  labels      = data.y\n",
        "  \n",
        "  h,z = model(data.x, data.edge_index)\n",
        "  output = z.argmax(dim=1)\n",
        "\n",
        "  print(classification_report(labels.to('cpu'), output.to('cpu'), target_names=classes))\n",
        "  cm = confusion_matrix(labels.to('cpu'), output.to('cpu'), normalize='true')\n",
        "  sn.heatmap(cm, annot=True, fmt=\".3f\", linewidths=.5, square = True, \\\n",
        "             cmap = 'BuPu', xticklabels = classes, yticklabels = classes)"
      ],
      "metadata": {
        "id": "KRrJNxO1wzgm"
      },
      "execution_count": null,
      "outputs": []
    },
    {
      "cell_type": "markdown",
      "source": [
        "#The Models"
      ],
      "metadata": {
        "id": "KTS2oKc0hSkV"
      }
    },
    {
      "cell_type": "markdown",
      "source": [
        "## ConvModel"
      ],
      "metadata": {
        "id": "oFJh05zohUbH"
      }
    },
    {
      "cell_type": "code",
      "source": [
        "class ConvModel(torch.nn.Module):\n",
        "    def __init__(self, data):\n",
        "        super(ConvModel, self).__init__()\n",
        "        self.gcn1 = GCNConv(data.num_features, 256)\n",
        "        # self.gcn1 = DenseGCNConv(data.num_features, 256)\n",
        "        self.batch1 = BatchNorm(256)\n",
        "        self.gcn2 = GCNConv(256, 64)\n",
        "        # self.gcn2 = DenseGCNConv(256, 64)\n",
        "        self.batch2 = BatchNorm(64)\n",
        "        self.out = Linear(64, data.num_classes)\n",
        "\n",
        "    def forward(self, x, edge_index):\n",
        "        h = F.dropout(x, p=0.5, training=self.training)\n",
        "        h = self.gcn1(h, edge_index).relu()\n",
        "        h = self.batch1(h)\n",
        "        h = F.dropout(h, p=0.5, training=self.training)\n",
        "        h = self.gcn2(h, edge_index).relu()\n",
        "        h = self.batch2(h)\n",
        "        z = self.out(h)\n",
        "        return h,F.log_softmax(z, dim=1)\n",
        "\n",
        "#F.log_softmax(x, dim=1)"
      ],
      "metadata": {
        "id": "zj9d7dYmaRSz"
      },
      "execution_count": null,
      "outputs": []
    },
    {
      "cell_type": "markdown",
      "source": [
        "## SageModel"
      ],
      "metadata": {
        "id": "WDS_tn3Jhk6j"
      }
    },
    {
      "cell_type": "code",
      "source": [
        "\n",
        "class SageModel(nn.Module):\n",
        "    def __init__(self,data,aggr='mean'):\n",
        "        super(SageModel, self).__init__()\n",
        "        self.conv1 = SAGEConv(data.num_features, 512, aggr, feat_drop= 0.3)\n",
        "        # self.conv1 = DenseSAGEConv(data.num_features, 512, aggr)\n",
        "        self.batch1 = BatchNorm(512)\n",
        "        self.conv2 = SAGEConv(512,64, aggr, feat_drop= 0.3)\n",
        "        # self.conv2 = DenseSAGEConv(512,64 , aggr)\n",
        "        self.batch2 = BatchNorm(64)\n",
        "        self.out = Linear(64, data.num_classes)\n",
        "        \n",
        "        \n",
        "\n",
        "    def forward(self, x, edge_index):\n",
        "        h = F.dropout(x, p=0.5, training=self.training)\n",
        "        h = self.conv1(h, edge_index).relu()\n",
        "        h = self.batch1(h)\n",
        "        h = F.dropout(h, p=0.3, training=self.training)\n",
        "        h = self.conv2(h, edge_index).relu()\n",
        "        h = self.batch2(h)\n",
        "        z = self.out(h)\n",
        "        return h,F.log_softmax(z, dim=1)\n",
        "        "
      ],
      "metadata": {
        "id": "SfwJgGB-2Oqc"
      },
      "execution_count": null,
      "outputs": []
    },
    {
      "cell_type": "markdown",
      "source": [],
      "metadata": {
        "id": "tSsoNPkqhlAz"
      }
    },
    {
      "cell_type": "markdown",
      "source": [
        "# Recap Experiments"
      ],
      "metadata": {
        "id": "Xc9XBnxF4wPu"
      }
    },
    {
      "cell_type": "code",
      "execution_count": null,
      "metadata": {
        "id": "5DIYaZ5osliJ",
        "colab": {
          "base_uri": "https://localhost:8080/"
        },
        "outputId": "0951db1d-08c4-4246-aea6-53931797957f"
      },
      "outputs": [
        {
          "output_type": "execute_result",
          "data": {
            "text/plain": [
              "device(type='cuda')"
            ]
          },
          "metadata": {},
          "execution_count": 123
        }
      ],
      "source": [
        "# Check if a cuda device is present\n",
        "device = torch.device('cuda' if torch.cuda.is_available() else 'cpu')\n",
        "device"
      ]
    },
    {
      "cell_type": "code",
      "source": [
        "\"\"\" scegleire qui se si vuole eseguire su recap o summ\"\"\"\n",
        "\n",
        "recap = True\n",
        "summ = False"
      ],
      "metadata": {
        "id": "CnO9N9LO1ZIw"
      },
      "execution_count": null,
      "outputs": []
    },
    {
      "cell_type": "markdown",
      "source": [
        "## Char graph Recap ConvModel "
      ],
      "metadata": {
        "id": "cwwGUWkpai2F"
      }
    },
    {
      "cell_type": "code",
      "execution_count": null,
      "metadata": {
        "id": "dzaB1gjo9MbV"
      },
      "outputs": [],
      "source": [
        "if summ == True:\n",
        "  g_file_name = \"summ_\"\n",
        "elif recap == True:\n",
        "  g_file_name = \"recap_\"\n",
        "  \n",
        "if LOAD_FEAT == \"C1_C2_last_layer\":\n",
        "  g_file_name += \"C1_C2_train_G_solo_c-last_layer.json\"\n",
        "  load_graph_name = os.path.join(str(GNN_features_PATH), g_file_name)\n",
        "elif LOAD_FEAT == \"C1\":\n",
        "  g_file_name += \"C1_train_G_solo_c.json\"\n",
        "  load_graph_name = os.path.join(str(GNN_features_PATH), g_file_name)\n",
        "elif LOAD_FEAT == \"C1_C2_all_layer\":\n",
        "  g_file_name += \"C1_C2_train_G_solo_c-all_layers.json\"\n",
        "  load_graph_name = os.path.join(str(GNN_features_PATH), g_file_name)\n",
        "elif LOAD_FEAT == \"C1_C2_last_layer_cleand\" :\n",
        "  g_file_name += \"C1_C2_train_G_solo_c-last_layers_cleand.json\"\n",
        "  load_graph_name = os.path.join(str(GNN_features_PATH), g_file_name)\n",
        "train_G_solo_c = load_graph(load_graph_name)"
      ]
    },
    {
      "cell_type": "code",
      "execution_count": null,
      "metadata": {
        "id": "89GsU5p79MbV"
      },
      "outputs": [],
      "source": [
        "if summ == True:\n",
        "  g_file_name = \"summ_\"\n",
        "elif recap == True:\n",
        "  g_file_name = \"recap_\"\n",
        "  \n",
        "if LOAD_FEAT == \"C1_C2_last_layer\":\n",
        "  g_file_name += \"C1_C2_test_G_solo_c-last_layer.json\"\n",
        "  load_graph_name = os.path.join(str(GNN_features_PATH), g_file_name)\n",
        "elif LOAD_FEAT == \"C1\":\n",
        "  g_file_name += \"C1_test_G_solo_c.json\"\n",
        "  load_graph_name = os.path.join(str(GNN_features_PATH), g_file_name)\n",
        "elif LOAD_FEAT == \"C1_C2_all_layer\":\n",
        "  g_file_name += \"C1_C2_test_G_solo_c-all_layers.json\"\n",
        "  load_graph_name = os.path.join(str(GNN_features_PATH), g_file_name)\n",
        "elif LOAD_FEAT == \"C1_C2_last_layer_cleand\" :\n",
        "  g_file_name += \"C1_C2_test_G_solo_c-last_layers_cleand.json\"\n",
        "  load_graph_name = os.path.join(str(GNN_features_PATH), g_file_name)\n",
        "test_G_solo_c = load_graph(load_graph_name)"
      ]
    },
    {
      "cell_type": "code",
      "source": [
        "\n",
        "train_labels = get_labels_all(train_G_solo_c)\n",
        "\n",
        "test_labels = get_labels_all(test_G_solo_c)\n",
        "num_classes = 4\n",
        "classes = [0,1 ,2,3]\n",
        "\n",
        "\n",
        "\n",
        "\n",
        "train_dataset_mask_events = MyDataset(train_G_solo_c, [i for i in train_labels], ['Feature'], num_classes)\n",
        "train_data_mask_events = train_dataset_mask_events[0]\n",
        "train_data_mask_events\n",
        "\n",
        "test_dataset_mask_events = MyDataset(test_G_solo_c, [i for i in test_labels], ['Feature'], num_classes)\n",
        "test_data_mask_events = test_dataset_mask_events[0]\n",
        "test_data_mask_events\n",
        "\n",
        "\n",
        "# Move all your data to the same device\n",
        "train_data_mask_events =  train_data_mask_events.to(device)\n",
        "test_data_mask_events =  test_data_mask_events.to(device)\n",
        "\n",
        "model = ConvModel(train_data_mask_events).to(device)\n",
        "\n",
        "model\n",
        "class_weights = compute_class_weights(train_labels)\n",
        "\n",
        "train_TEST_2_5(model, train_data_mask_events,2000,class_weights)\n",
        "\n",
        "test_TEST_2_5(model, test_data_mask_events,classes= [\"Main\", \"Ally\", \"Antagonist\",\"Other\"])"
      ],
      "metadata": {
        "id": "1-Lmj3qqac5h",
        "colab": {
          "base_uri": "https://localhost:8080/",
          "height": 1000
        },
        "outputId": "05498d1d-8149-4fcd-b7b8-6ea949658aa3"
      },
      "execution_count": null,
      "outputs": [
        {
          "output_type": "stream",
          "name": "stdout",
          "text": [
            "Epoch   0 | Loss: 1.38 | Acc: 25.21%\n",
            "Epoch  50 | Loss: 1.20 | Acc: 45.30%\n",
            "Epoch 100 | Loss: 1.16 | Acc: 44.87%\n",
            "Epoch 150 | Loss: 1.18 | Acc: 44.02%\n",
            "Epoch 200 | Loss: 1.15 | Acc: 35.90%\n",
            "Epoch 250 | Loss: 1.15 | Acc: 37.61%\n",
            "Epoch 300 | Loss: 1.15 | Acc: 34.19%\n",
            "Epoch 350 | Loss: 1.13 | Acc: 37.18%\n",
            "Epoch 400 | Loss: 1.14 | Acc: 39.74%\n",
            "Epoch 450 | Loss: 1.14 | Acc: 35.47%\n",
            "Epoch 500 | Loss: 1.14 | Acc: 41.88%\n",
            "Epoch 550 | Loss: 1.14 | Acc: 41.88%\n",
            "Epoch 600 | Loss: 1.15 | Acc: 36.32%\n",
            "Epoch 650 | Loss: 1.16 | Acc: 42.74%\n",
            "Epoch 700 | Loss: 1.15 | Acc: 37.18%\n",
            "Epoch 750 | Loss: 1.14 | Acc: 44.02%\n",
            "Epoch 800 | Loss: 1.16 | Acc: 41.45%\n",
            "Epoch 850 | Loss: 1.14 | Acc: 40.17%\n",
            "Epoch 900 | Loss: 1.14 | Acc: 38.03%\n",
            "Epoch 950 | Loss: 1.14 | Acc: 36.75%\n",
            "Epoch 1000 | Loss: 1.18 | Acc: 33.33%\n",
            "Epoch 1050 | Loss: 1.14 | Acc: 43.16%\n",
            "Epoch 1100 | Loss: 1.14 | Acc: 43.16%\n",
            "Epoch 1150 | Loss: 1.15 | Acc: 33.76%\n",
            "Epoch 1200 | Loss: 1.13 | Acc: 35.90%\n",
            "Epoch 1250 | Loss: 1.13 | Acc: 40.60%\n",
            "Epoch 1300 | Loss: 1.13 | Acc: 38.03%\n",
            "Epoch 1350 | Loss: 1.15 | Acc: 39.32%\n",
            "Epoch 1400 | Loss: 1.10 | Acc: 40.60%\n",
            "Epoch 1450 | Loss: 1.11 | Acc: 38.46%\n",
            "Epoch 1500 | Loss: 1.15 | Acc: 37.61%\n",
            "Epoch 1550 | Loss: 1.14 | Acc: 44.87%\n",
            "Epoch 1600 | Loss: 1.11 | Acc: 37.18%\n",
            "Epoch 1650 | Loss: 1.13 | Acc: 41.45%\n",
            "Epoch 1700 | Loss: 1.11 | Acc: 34.62%\n",
            "Epoch 1750 | Loss: 1.11 | Acc: 45.73%\n",
            "Epoch 1800 | Loss: 1.09 | Acc: 42.74%\n",
            "Epoch 1850 | Loss: 1.12 | Acc: 41.45%\n",
            "Epoch 1900 | Loss: 1.13 | Acc: 43.16%\n",
            "Epoch 1950 | Loss: 1.15 | Acc: 39.32%\n",
            "              precision    recall  f1-score   support\n",
            "\n",
            "        Main       0.65      0.52      0.58        25\n",
            "        Ally       0.80      0.10      0.17        41\n",
            "  Antagonist       0.24      0.84      0.37        43\n",
            "       Other       0.79      0.35      0.49       125\n",
            "\n",
            "    accuracy                           0.41       234\n",
            "   macro avg       0.62      0.45      0.40       234\n",
            "weighted avg       0.67      0.41      0.42       234\n",
            "\n"
          ]
        },
        {
          "output_type": "display_data",
          "data": {
            "text/plain": [
              "<Figure size 640x480 with 2 Axes>"
            ],
            "image/png": "[encoded data removed]"
          },
          "metadata": {}
        }
      ]
    },
    {
      "cell_type": "markdown",
      "source": [
        "## Char graph Recap SageModel"
      ],
      "metadata": {
        "id": "K-oBQVEj2TS0"
      }
    },
    {
      "cell_type": "code",
      "execution_count": null,
      "metadata": {
        "id": "JlhjplKi9P-v"
      },
      "outputs": [],
      "source": [
        "if summ == True:\n",
        "  g_file_name = \"summ_\"\n",
        "elif recap == True:\n",
        "  g_file_name = \"recap_\"\n",
        "  \n",
        "if LOAD_FEAT == \"C1_C2_last_layer\":\n",
        "  g_file_name += \"C1_C2_train_G_solo_c-last_layer.json\"\n",
        "  load_graph_name = os.path.join(str(GNN_features_PATH), g_file_name)\n",
        "elif LOAD_FEAT == \"C1\":\n",
        "  g_file_name += \"C1_train_G_solo_c.json\"\n",
        "  load_graph_name = os.path.join(str(GNN_features_PATH), g_file_name)\n",
        "elif LOAD_FEAT == \"C1_C2_all_layer\":\n",
        "  g_file_name += \"C1_C2_train_G_solo_c-all_layers.json\"\n",
        "  load_graph_name = os.path.join(str(GNN_features_PATH), g_file_name)\n",
        "elif LOAD_FEAT == \"C1_C2_last_layer_cleand\" :\n",
        "  g_file_name += \"C1_C2_train_G_solo_c-last_layers_cleand.json\"\n",
        "  load_graph_name = os.path.join(str(GNN_features_PATH), g_file_name)\n",
        "train_G_solo_c = load_graph(load_graph_name)"
      ]
    },
    {
      "cell_type": "code",
      "execution_count": null,
      "metadata": {
        "id": "AJLG-Nh_9P-v"
      },
      "outputs": [],
      "source": [
        "if summ == True:\n",
        "  g_file_name = \"summ_\"\n",
        "elif recap == True:\n",
        "  g_file_name = \"recap_\"\n",
        "  \n",
        "if LOAD_FEAT == \"C1_C2_last_layer\":\n",
        "  g_file_name += \"C1_C2_test_G_solo_c-last_layer.json\"\n",
        "  load_graph_name = os.path.join(str(GNN_features_PATH), g_file_name)\n",
        "elif LOAD_FEAT == \"C1\":\n",
        "  g_file_name += \"C1_test_G_solo_c.json\"\n",
        "  load_graph_name = os.path.join(str(GNN_features_PATH), g_file_name)\n",
        "elif LOAD_FEAT == \"C1_C2_all_layer\":\n",
        "  g_file_name += \"C1_C2_test_G_solo_c-all_layers.json\"\n",
        "  load_graph_name = os.path.join(str(GNN_features_PATH), g_file_name)\n",
        "elif LOAD_FEAT == \"C1_C2_last_layer_cleand\" :\n",
        "  g_file_name += \"C1_C2_test_G_solo_c-last_layers_cleand.json\"\n",
        "  load_graph_name = os.path.join(str(GNN_features_PATH), g_file_name)\n",
        "test_G_solo_c = load_graph(load_graph_name)"
      ]
    },
    {
      "cell_type": "code",
      "source": [
        "\n",
        "train_labels = get_labels_all(train_G_solo_c)\n",
        "\n",
        "test_labels = get_labels_all(test_G_solo_c)\n",
        "num_classes = 4\n",
        "classes = [0,1 ,2,3]\n",
        "\n",
        "\n",
        "\n",
        "\n",
        "train_dataset_mask_events = MyDataset(train_G_solo_c, [i for i in train_labels], ['Feature'], num_classes)\n",
        "train_data_mask_events = train_dataset_mask_events[0]\n",
        "train_data_mask_events\n",
        "\n",
        "test_dataset_mask_events = MyDataset(test_G_solo_c, [i for i in test_labels], ['Feature'], num_classes)\n",
        "test_data_mask_events = test_dataset_mask_events[0]\n",
        "test_data_mask_events\n",
        "\n",
        "\n",
        "# Move all your data to the same device\n",
        "train_data_mask_events =  train_data_mask_events.to(device)\n",
        "test_data_mask_events =  test_data_mask_events.to(device)\n",
        "\n",
        "model = SageModel(train_data_mask_events).to(device)\n",
        "\n",
        "model\n",
        "class_weights = compute_class_weights(train_labels)\n",
        "\n",
        "train_TEST_2_5(model, train_data_mask_events,3000,class_weights)\n",
        "\n",
        "test_TEST_2_5(model, test_data_mask_events,classes= [\"Main\", \"Ally\", \"Antagonist\",\"Other\"])"
      ],
      "metadata": {
        "id": "kn_n9AdO2TS1",
        "colab": {
          "base_uri": "https://localhost:8080/",
          "height": 1000
        },
        "outputId": "ae97ff4a-67bb-4091-ac66-85edebbaf7bc"
      },
      "execution_count": null,
      "outputs": [
        {
          "output_type": "stream",
          "name": "stdout",
          "text": [
            "Epoch   0 | Loss: 1.56 | Acc: 19.23%\n",
            "Epoch  50 | Loss: 1.23 | Acc: 39.74%\n",
            "Epoch 100 | Loss: 1.16 | Acc: 38.89%\n",
            "Epoch 150 | Loss: 1.13 | Acc: 38.46%\n",
            "Epoch 200 | Loss: 1.07 | Acc: 44.44%\n",
            "Epoch 250 | Loss: 1.02 | Acc: 38.89%\n",
            "Epoch 300 | Loss: 1.06 | Acc: 49.15%\n",
            "Epoch 350 | Loss: 0.99 | Acc: 43.59%\n",
            "Epoch 400 | Loss: 0.98 | Acc: 45.73%\n",
            "Epoch 450 | Loss: 0.97 | Acc: 53.42%\n",
            "Epoch 500 | Loss: 0.93 | Acc: 57.26%\n",
            "Epoch 550 | Loss: 1.01 | Acc: 50.85%\n",
            "Epoch 600 | Loss: 0.91 | Acc: 54.70%\n",
            "Epoch 650 | Loss: 0.90 | Acc: 55.98%\n",
            "Epoch 700 | Loss: 0.90 | Acc: 51.28%\n",
            "Epoch 750 | Loss: 0.90 | Acc: 49.57%\n",
            "Epoch 800 | Loss: 0.90 | Acc: 53.85%\n",
            "Epoch 850 | Loss: 0.90 | Acc: 58.12%\n",
            "Epoch 900 | Loss: 0.90 | Acc: 48.72%\n",
            "Epoch 950 | Loss: 0.84 | Acc: 52.99%\n",
            "Epoch 1000 | Loss: 0.85 | Acc: 58.97%\n",
            "Epoch 1050 | Loss: 0.82 | Acc: 56.41%\n",
            "Epoch 1100 | Loss: 0.89 | Acc: 54.27%\n",
            "Epoch 1150 | Loss: 0.75 | Acc: 64.96%\n",
            "Epoch 1200 | Loss: 0.79 | Acc: 65.38%\n",
            "Epoch 1250 | Loss: 0.86 | Acc: 59.40%\n",
            "Epoch 1300 | Loss: 0.75 | Acc: 55.56%\n",
            "Epoch 1350 | Loss: 0.76 | Acc: 59.40%\n",
            "Epoch 1400 | Loss: 0.86 | Acc: 57.26%\n",
            "Epoch 1450 | Loss: 0.69 | Acc: 59.40%\n",
            "Epoch 1500 | Loss: 0.72 | Acc: 61.54%\n",
            "Epoch 1550 | Loss: 0.75 | Acc: 68.80%\n",
            "Epoch 1600 | Loss: 0.78 | Acc: 63.25%\n",
            "Epoch 1650 | Loss: 0.87 | Acc: 67.95%\n",
            "Epoch 1700 | Loss: 0.81 | Acc: 57.69%\n",
            "Epoch 1750 | Loss: 0.86 | Acc: 56.41%\n",
            "Epoch 1800 | Loss: 0.78 | Acc: 51.71%\n",
            "Epoch 1850 | Loss: 0.86 | Acc: 50.00%\n",
            "Epoch 1900 | Loss: 0.77 | Acc: 67.52%\n",
            "Epoch 1950 | Loss: 0.75 | Acc: 60.26%\n",
            "Epoch 2000 | Loss: 0.79 | Acc: 60.68%\n",
            "Epoch 2050 | Loss: 0.73 | Acc: 61.54%\n",
            "Epoch 2100 | Loss: 0.77 | Acc: 57.26%\n",
            "Epoch 2150 | Loss: 0.75 | Acc: 62.39%\n",
            "Epoch 2200 | Loss: 0.83 | Acc: 61.97%\n",
            "Epoch 2250 | Loss: 0.78 | Acc: 63.25%\n",
            "Epoch 2300 | Loss: 0.71 | Acc: 64.10%\n",
            "Epoch 2350 | Loss: 0.69 | Acc: 67.52%\n",
            "Epoch 2400 | Loss: 0.77 | Acc: 67.09%\n",
            "Epoch 2450 | Loss: 0.68 | Acc: 66.24%\n",
            "Epoch 2500 | Loss: 0.90 | Acc: 57.69%\n",
            "Epoch 2550 | Loss: 0.79 | Acc: 60.68%\n",
            "Epoch 2600 | Loss: 0.66 | Acc: 67.95%\n",
            "Epoch 2650 | Loss: 0.68 | Acc: 64.96%\n",
            "Epoch 2700 | Loss: 0.67 | Acc: 69.66%\n",
            "Epoch 2750 | Loss: 0.68 | Acc: 66.67%\n",
            "Epoch 2800 | Loss: 0.85 | Acc: 60.68%\n",
            "Epoch 2850 | Loss: 0.72 | Acc: 66.24%\n",
            "Epoch 2900 | Loss: 0.81 | Acc: 63.68%\n",
            "Epoch 2950 | Loss: 0.75 | Acc: 64.96%\n",
            "              precision    recall  f1-score   support\n",
            "\n",
            "        Main       0.56      1.00      0.71        25\n",
            "        Ally       0.67      0.71      0.69        41\n",
            "  Antagonist       0.63      0.79      0.70        43\n",
            "       Other       0.95      0.70      0.80       125\n",
            "\n",
            "    accuracy                           0.75       234\n",
            "   macro avg       0.70      0.80      0.73       234\n",
            "weighted avg       0.80      0.75      0.75       234\n",
            "\n"
          ]
        },
        {
          "output_type": "display_data",
          "data": {
            "text/plain": [
              "<Figure size 640x480 with 2 Axes>"
            ],
            "image/png": "[encoded data removed]"
          },
          "metadata": {}
        }
      ]
    },
    {
      "cell_type": "code",
      "source": [],
      "metadata": {
        "id": "Vcjm25nk7iQj"
      },
      "execution_count": null,
      "outputs": []
    },
    {
      "cell_type": "markdown",
      "source": [
        "## Event/Char graph ConvModel"
      ],
      "metadata": {
        "id": "ZP_AFXp8xWGO"
      }
    },
    {
      "cell_type": "code",
      "execution_count": null,
      "metadata": {
        "id": "BFJLL2gs8wDU"
      },
      "outputs": [],
      "source": [
        "if summ == True:\n",
        "  g_file_name = \"summ_\"\n",
        "elif recap == True:\n",
        "  g_file_name = \"recap_\"\n",
        "  \n",
        "if LOAD_FEAT == \"C1_C2_last_layer\":\n",
        "  g_file_name += \"C1_C2_train_G-last_layer.json\"\n",
        "  load_graph_name = os.path.join(str(GNN_features_PATH), g_file_name)\n",
        "elif LOAD_FEAT == \"C1\":\n",
        "  g_file_name += \"C1_train_G.json\"\n",
        "  load_graph_name = os.path.join(str(GNN_features_PATH), g_file_name)\n",
        "elif LOAD_FEAT == \"C1_C2_all_layer\":\n",
        "  g_file_name += \"C1_C2_train_G-all_layers.json\"\n",
        "  load_graph_name = os.path.join(str(GNN_features_PATH), g_file_name)\n",
        "elif LOAD_FEAT ==\"C1_C2_last_layer_cleand\":\n",
        "  g_file_name += \"C1_C2_train_G-last_layer-cleands.json\"\n",
        "  load_graph_name = os.path.join(str(GNN_features_PATH), g_file_name)\n",
        "train_G = load_graph_event_char(load_graph_name)"
      ]
    },
    {
      "cell_type": "code",
      "execution_count": null,
      "metadata": {
        "id": "xK4YBzj78wDU"
      },
      "outputs": [],
      "source": [
        "if summ == True:\n",
        "  g_file_name = \"summ_\"\n",
        "elif recap == True:\n",
        "  g_file_name = \"recap_\"\n",
        "  \n",
        "if LOAD_FEAT == \"C1_C2_last_layer\" :\n",
        "  g_file_name += \"C1_C2_test_G-last_layer.json\"\n",
        "  load_graph_name = os.path.join(str(GNN_features_PATH), g_file_name)\n",
        "elif LOAD_FEAT == \"C1\":\n",
        "  g_file_name += \"C1_test_G.json\"\n",
        "  load_graph_name = os.path.join(str(GNN_features_PATH), g_file_name)\n",
        "elif LOAD_FEAT == \"C1_C2_all_layer\":\n",
        "  g_file_name += \"C1_C2_test_G-all_layers.json\"\n",
        "  load_graph_name = os.path.join(str(GNN_features_PATH), g_file_name)\n",
        "elif LOAD_FEAT ==\"C1_C2_last_layer_cleand\":\n",
        "  g_file_name += \"C1_C2_test_G-last_layer-cleand.json\"\n",
        "  load_graph_name = os.path.join(str(GNN_features_PATH), g_file_name)\n",
        "test_G = load_graph_event_char(load_graph_name)"
      ]
    },
    {
      "cell_type": "code",
      "source": [
        "\n",
        "train_labels = get_labels_all_event(train_G)\n",
        "\n",
        "test_labels = get_labels_all_event(test_G)\n",
        "num_classes = 5\n",
        "classes = [0,1 ,2,3,4]\n",
        "\n",
        "\n",
        "\n",
        "\n",
        "train_dataset_mask_events = MyDataset(train_G, [i for i in train_labels], ['Feature'], num_classes)\n",
        "train_data_mask_events = train_dataset_mask_events[0]\n",
        "train_data_mask_events\n",
        "\n",
        "test_dataset_mask_events = MyDataset(test_G, [i for i in test_labels], ['Feature'], num_classes)\n",
        "test_data_mask_events = test_dataset_mask_events[0]\n",
        "test_data_mask_events\n",
        "\n",
        "\n",
        "# Move all your data to the same device\n",
        "train_data_mask_events =  train_data_mask_events.to(device)\n",
        "test_data_mask_events =  test_data_mask_events.to(device)\n",
        "\n",
        "model = ConvModel(train_data_mask_events).to(device)\n",
        "\n",
        "model\n",
        "class_weights = [0.3] + compute_class_weights(train_labels)[1:]\n",
        "\n",
        "train_TEST_1_8(model, train_data_mask_events,2000,class_weights)\n",
        "\n",
        "test_TEST_1_8(model, test_data_mask_events, classes= [\"Event\", \"Main\", \"Ally\", \"Antagonist\",\"Other\"])"
      ],
      "metadata": {
        "id": "__jzo4HnxWGQ",
        "colab": {
          "base_uri": "https://localhost:8080/",
          "height": 1000
        },
        "outputId": "748c2dc7-3ea4-4713-c6ee-f5d6f21440bb"
      },
      "execution_count": null,
      "outputs": [
        {
          "output_type": "stream",
          "name": "stdout",
          "text": [
            "Epoch   0 | Loss: 1.66 | Acc: 34.13%\n",
            "Epoch  50 | Loss: 1.20 | Acc: 37.59%\n",
            "Epoch 100 | Loss: 1.03 | Acc: 40.11%\n",
            "Epoch 150 | Loss: 1.01 | Acc: 43.93%\n",
            "Epoch 200 | Loss: 0.94 | Acc: 47.14%\n",
            "Epoch 250 | Loss: 0.91 | Acc: 50.00%\n",
            "Epoch 300 | Loss: 0.82 | Acc: 53.73%\n",
            "Epoch 350 | Loss: 0.79 | Acc: 58.87%\n",
            "Epoch 400 | Loss: 0.77 | Acc: 60.79%\n",
            "Epoch 450 | Loss: 0.70 | Acc: 66.49%\n",
            "Epoch 500 | Loss: 0.68 | Acc: 70.45%\n",
            "Epoch 550 | Loss: 0.66 | Acc: 75.66%\n",
            "Epoch 600 | Loss: 0.64 | Acc: 75.55%\n",
            "Epoch 650 | Loss: 0.63 | Acc: 77.98%\n",
            "Epoch 700 | Loss: 0.65 | Acc: 80.62%\n",
            "Epoch 750 | Loss: 0.58 | Acc: 81.54%\n",
            "Epoch 800 | Loss: 0.53 | Acc: 83.49%\n",
            "Epoch 850 | Loss: 0.51 | Acc: 83.81%\n",
            "Epoch 900 | Loss: 0.54 | Acc: 86.61%\n",
            "Epoch 950 | Loss: 0.51 | Acc: 86.78%\n",
            "Epoch 1000 | Loss: 0.50 | Acc: 88.23%\n",
            "Epoch 1050 | Loss: 0.49 | Acc: 88.66%\n",
            "Epoch 1100 | Loss: 0.45 | Acc: 90.70%\n",
            "Epoch 1150 | Loss: 0.42 | Acc: 89.07%\n",
            "Epoch 1200 | Loss: 0.44 | Acc: 90.63%\n",
            "Epoch 1250 | Loss: 0.43 | Acc: 90.67%\n",
            "Epoch 1300 | Loss: 0.36 | Acc: 91.87%\n",
            "Epoch 1350 | Loss: 0.40 | Acc: 92.71%\n",
            "Epoch 1400 | Loss: 0.42 | Acc: 92.31%\n",
            "Epoch 1450 | Loss: 0.38 | Acc: 93.13%\n",
            "Epoch 1500 | Loss: 0.36 | Acc: 92.44%\n",
            "Epoch 1550 | Loss: 0.31 | Acc: 93.58%\n",
            "Epoch 1600 | Loss: 0.30 | Acc: 93.18%\n",
            "Epoch 1650 | Loss: 0.29 | Acc: 92.96%\n",
            "Epoch 1700 | Loss: 0.36 | Acc: 93.70%\n",
            "Epoch 1750 | Loss: 0.26 | Acc: 93.78%\n",
            "Epoch 1800 | Loss: 0.28 | Acc: 95.20%\n",
            "Epoch 1850 | Loss: 0.29 | Acc: 94.73%\n",
            "Epoch 1900 | Loss: 0.32 | Acc: 94.76%\n",
            "Epoch 1950 | Loss: 0.25 | Acc: 95.72%\n",
            "              precision    recall  f1-score   support\n",
            "\n",
            "       Event       1.00      0.88      0.94      3823\n",
            "        Main       0.04      0.30      0.07        23\n",
            "        Ally       0.02      0.17      0.03        12\n",
            "  Antagonist       0.01      0.12      0.03         8\n",
            "       Other       0.26      0.60      0.36       109\n",
            "\n",
            "    accuracy                           0.87      3975\n",
            "   macro avg       0.27      0.41      0.29      3975\n",
            "weighted avg       0.97      0.87      0.91      3975\n",
            "\n"
          ]
        },
        {
          "output_type": "display_data",
          "data": {
            "text/plain": [
              "<Figure size 640x480 with 2 Axes>"
            ],
            "image/png": "[encoded data removed]"
          },
          "metadata": {}
        }
      ]
    },
    {
      "cell_type": "markdown",
      "source": [
        "## Event/Char graph SageModel"
      ],
      "metadata": {
        "id": "JLnLKVhvjkFx"
      }
    },
    {
      "cell_type": "code",
      "execution_count": null,
      "metadata": {
        "id": "HB486lX7jkFx"
      },
      "outputs": [],
      "source": [
        "if summ == True:\n",
        "  g_file_name = \"summ_\"\n",
        "elif recap == True:\n",
        "  g_file_name = \"recap_\"\n",
        "  \n",
        "if LOAD_FEAT == \"C1_C2_last_layer\":\n",
        "  g_file_name += \"C1_C2_train_G-last_layer.json\"\n",
        "  load_graph_name = os.path.join(str(GNN_features_PATH), g_file_name)\n",
        "elif LOAD_FEAT == \"C1\":\n",
        "  g_file_name += \"C1_train_G.json\"\n",
        "  load_graph_name = os.path.join(str(GNN_features_PATH), g_file_name)\n",
        "elif LOAD_FEAT == \"C1_C2_all_layer\":\n",
        "  g_file_name += \"C1_C2_train_G-all_layers.json\"\n",
        "  load_graph_name = os.path.join(str(GNN_features_PATH), g_file_name)\n",
        "elif LOAD_FEAT ==\"C1_C2_last_layer_cleand\":\n",
        "  g_file_name += \"C1_C2_train_G-last_layer-cleands.json\"\n",
        "  load_graph_name = os.path.join(str(GNN_features_PATH), g_file_name)\n",
        "train_G = load_graph_event_char(load_graph_name)"
      ]
    },
    {
      "cell_type": "code",
      "execution_count": null,
      "metadata": {
        "id": "nkK1vVDpjkFx"
      },
      "outputs": [],
      "source": [
        "if summ == True:\n",
        "  g_file_name = \"summ_\"\n",
        "elif recap == True:\n",
        "  g_file_name = \"recap_\"\n",
        "  \n",
        "if LOAD_FEAT == \"C1_C2_last_layer\" :\n",
        "  g_file_name += \"C1_C2_test_G-last_layer.json\"\n",
        "  load_graph_name = os.path.join(str(GNN_features_PATH), g_file_name)\n",
        "elif LOAD_FEAT == \"C1\":\n",
        "  g_file_name += \"C1_test_G.json\"\n",
        "  load_graph_name = os.path.join(str(GNN_features_PATH), g_file_name)\n",
        "elif LOAD_FEAT == \"C1_C2_all_layer\":\n",
        "  g_file_name += \"C1_C2_test_G-all_layers.json\"\n",
        "  load_graph_name = os.path.join(str(GNN_features_PATH), g_file_name)\n",
        "elif LOAD_FEAT ==\"C1_C2_last_layer_cleand\":\n",
        "  g_file_name += \"C1_C2_test_G-last_layer-cleand.json\"\n",
        "  load_graph_name = os.path.join(str(GNN_features_PATH), g_file_name)\n",
        "test_G = load_graph_event_char(load_graph_name)"
      ]
    },
    {
      "cell_type": "code",
      "source": [
        "\n",
        "train_labels = get_labels_all_event(train_G)\n",
        "\n",
        "test_labels = get_labels_all_event(test_G)\n",
        "num_classes = 5\n",
        "classes = [0,1 ,2,3,4]\n",
        "\n",
        "\n",
        "\n",
        "\n",
        "train_dataset_mask_events = MyDataset(train_G, [i for i in train_labels], ['Feature'], num_classes)\n",
        "train_data_mask_events = train_dataset_mask_events[0]\n",
        "train_data_mask_events\n",
        "\n",
        "test_dataset_mask_events = MyDataset(test_G, [i for i in test_labels], ['Feature'], num_classes)\n",
        "test_data_mask_events = test_dataset_mask_events[0]\n",
        "test_data_mask_events\n",
        "\n",
        "\n",
        "# Move all your data to the same device\n",
        "train_data_mask_events =  train_data_mask_events.to(device)\n",
        "test_data_mask_events =  test_data_mask_events.to(device)\n",
        "\n",
        "model = SageModel(train_data_mask_events).to(device)\n",
        "\n",
        "model\n",
        "class_weights = [0.3] + compute_class_weights(train_labels)[1:]\n",
        "\n",
        "train_TEST_1_8(model, train_data_mask_events,2000,class_weights)\n",
        "\n",
        "test_TEST_1_8(model, test_data_mask_events, classes= [\"Event\", \"Main\", \"Ally\", \"Antagonist\",\"Other\"])"
      ],
      "metadata": {
        "colab": {
          "base_uri": "https://localhost:8080/",
          "height": 1000
        },
        "outputId": "12bcf017-b77c-47b6-86ec-a921adae5d7b",
        "id": "JwyNgZsWjkFy"
      },
      "execution_count": null,
      "outputs": [
        {
          "output_type": "stream",
          "name": "stdout",
          "text": [
            "Epoch   0 | Loss: 1.98 | Acc: 13.66%\n",
            "Epoch  50 | Loss: 1.30 | Acc: 26.30%\n",
            "Epoch 100 | Loss: 1.10 | Acc: 34.00%\n",
            "Epoch 150 | Loss: 0.94 | Acc: 38.58%\n",
            "Epoch 200 | Loss: 0.87 | Acc: 43.51%\n",
            "Epoch 250 | Loss: 0.76 | Acc: 51.80%\n",
            "Epoch 300 | Loss: 0.80 | Acc: 60.14%\n",
            "Epoch 350 | Loss: 0.58 | Acc: 65.97%\n",
            "Epoch 400 | Loss: 0.53 | Acc: 72.50%\n",
            "Epoch 450 | Loss: 0.50 | Acc: 80.00%\n",
            "Epoch 500 | Loss: 0.43 | Acc: 84.10%\n",
            "Epoch 550 | Loss: 0.36 | Acc: 87.78%\n",
            "Epoch 600 | Loss: 0.32 | Acc: 89.74%\n",
            "Epoch 650 | Loss: 0.33 | Acc: 93.42%\n",
            "Epoch 700 | Loss: 0.27 | Acc: 94.23%\n",
            "Epoch 750 | Loss: 0.33 | Acc: 95.51%\n",
            "Epoch 800 | Loss: 0.27 | Acc: 96.20%\n",
            "Epoch 850 | Loss: 0.23 | Acc: 96.98%\n",
            "Epoch 900 | Loss: 0.21 | Acc: 98.05%\n",
            "Epoch 950 | Loss: 0.20 | Acc: 98.22%\n",
            "Epoch 1000 | Loss: 0.19 | Acc: 98.55%\n",
            "Epoch 1050 | Loss: 0.19 | Acc: 98.44%\n",
            "Epoch 1100 | Loss: 0.17 | Acc: 98.87%\n",
            "Epoch 1150 | Loss: 0.17 | Acc: 99.02%\n",
            "Epoch 1200 | Loss: 0.15 | Acc: 99.01%\n",
            "Epoch 1250 | Loss: 0.17 | Acc: 99.07%\n",
            "Epoch 1300 | Loss: 0.11 | Acc: 99.14%\n",
            "Epoch 1350 | Loss: 0.11 | Acc: 99.12%\n",
            "Epoch 1400 | Loss: 0.11 | Acc: 99.16%\n",
            "Epoch 1450 | Loss: 0.10 | Acc: 99.37%\n",
            "Epoch 1500 | Loss: 0.15 | Acc: 99.35%\n",
            "Epoch 1550 | Loss: 0.09 | Acc: 99.39%\n",
            "Epoch 1600 | Loss: 0.06 | Acc: 99.39%\n",
            "Epoch 1650 | Loss: 0.10 | Acc: 99.43%\n",
            "Epoch 1700 | Loss: 0.11 | Acc: 99.49%\n",
            "Epoch 1750 | Loss: 0.09 | Acc: 99.49%\n",
            "Epoch 1800 | Loss: 0.07 | Acc: 99.45%\n",
            "Epoch 1850 | Loss: 0.06 | Acc: 99.61%\n",
            "Epoch 1900 | Loss: 0.07 | Acc: 99.52%\n",
            "Epoch 1950 | Loss: 0.05 | Acc: 99.54%\n",
            "              precision    recall  f1-score   support\n",
            "\n",
            "       Event       1.00      0.93      0.96      3823\n",
            "        Main       0.01      0.04      0.01        23\n",
            "        Ally       0.01      0.08      0.02        12\n",
            "  Antagonist       0.02      0.25      0.04         8\n",
            "       Other       0.40      0.50      0.44       109\n",
            "\n",
            "    accuracy                           0.91      3975\n",
            "   macro avg       0.29      0.36      0.30      3975\n",
            "weighted avg       0.97      0.91      0.94      3975\n",
            "\n"
          ]
        },
        {
          "output_type": "display_data",
          "data": {
            "text/plain": [
              "<Figure size 640x480 with 2 Axes>"
            ],
            "image/png": "[encoded data removed]"
          },
          "metadata": {}
        }
      ]
    },
    {
      "cell_type": "markdown",
      "source": [
        "# Summary Experiments"
      ],
      "metadata": {
        "id": "7wi47FjkgQpZ"
      }
    },
    {
      "cell_type": "code",
      "source": [
        "\"\"\" scegleire qui se si vuole eseguire su recap o summ\"\"\"\n",
        "\n",
        "recap = False\n",
        "summ = True"
      ],
      "metadata": {
        "id": "XhAqiouxgT3m"
      },
      "execution_count": null,
      "outputs": []
    },
    {
      "cell_type": "markdown",
      "source": [
        "## Char graph Summary ConvModel"
      ],
      "metadata": {
        "id": "2B1oizIUg2NU"
      }
    },
    {
      "cell_type": "code",
      "execution_count": null,
      "metadata": {
        "id": "s97Mm_y8g2NV"
      },
      "outputs": [],
      "source": [
        "if summ == True:\n",
        "  g_file_name = \"summ_\"\n",
        "elif recap == True:\n",
        "  g_file_name = \"recap_\"\n",
        "  \n",
        "if LOAD_FEAT == \"C1_C2_last_layer\":\n",
        "  g_file_name += \"C1_C2_train_G_solo_c-last_layer.json\"\n",
        "  load_graph_name = os.path.join(str(GNN_features_PATH), g_file_name)\n",
        "elif LOAD_FEAT == \"C1\":\n",
        "  g_file_name += \"C1_train_G_solo_c.json\"\n",
        "  load_graph_name = os.path.join(str(GNN_features_PATH), g_file_name)\n",
        "elif LOAD_FEAT == \"C1_C2_all_layer\":\n",
        "  g_file_name += \"C1_C2_train_G_solo_c-all_layers.json\"\n",
        "  load_graph_name = os.path.join(str(GNN_features_PATH), g_file_name)\n",
        "elif LOAD_FEAT == \"C1_C2_last_layer_cleand\" :\n",
        "  g_file_name += \"C1_C2_train_G_solo_c-last_layers_cleand.json\"\n",
        "  load_graph_name = os.path.join(str(GNN_features_PATH), g_file_name)\n",
        "train_G_solo_c = load_graph(load_graph_name)"
      ]
    },
    {
      "cell_type": "code",
      "execution_count": null,
      "metadata": {
        "id": "GUWK9fGcg2NV"
      },
      "outputs": [],
      "source": [
        "if summ == True:\n",
        "  g_file_name = \"summ_\"\n",
        "elif recap == True:\n",
        "  g_file_name = \"recap_\"\n",
        "  \n",
        "if LOAD_FEAT == \"C1_C2_last_layer\":\n",
        "  g_file_name += \"C1_C2_test_G_solo_c-last_layer.json\"\n",
        "  load_graph_name = os.path.join(str(GNN_features_PATH), g_file_name)\n",
        "elif LOAD_FEAT == \"C1\":\n",
        "  g_file_name += \"C1_test_G_solo_c.json\"\n",
        "  load_graph_name = os.path.join(str(GNN_features_PATH), g_file_name)\n",
        "elif LOAD_FEAT == \"C1_C2_all_layer\":\n",
        "  g_file_name += \"C1_C2_test_G_solo_c-all_layers.json\"\n",
        "  load_graph_name = os.path.join(str(GNN_features_PATH), g_file_name)\n",
        "elif LOAD_FEAT == \"C1_C2_last_layer_cleand\" :\n",
        "  g_file_name += \"C1_C2_test_G_solo_c-last_layers_cleand.json\"\n",
        "  load_graph_name = os.path.join(str(GNN_features_PATH), g_file_name)\n",
        "test_G_solo_c = load_graph(load_graph_name)"
      ]
    },
    {
      "cell_type": "code",
      "source": [
        "\n",
        "train_labels = get_labels_all(train_G_solo_c)\n",
        "\n",
        "test_labels = get_labels_all(test_G_solo_c)\n",
        "num_classes = 4\n",
        "classes = [0,1 ,2,3]\n",
        "\n",
        "train_dataset_mask_events = MyDataset(train_G_solo_c, [i for i in train_labels], ['Feature'], num_classes)\n",
        "train_data_mask_events = train_dataset_mask_events[0]\n",
        "train_data_mask_events\n",
        "\n",
        "test_dataset_mask_events = MyDataset(test_G_solo_c, [i for i in test_labels], ['Feature'], num_classes)\n",
        "test_data_mask_events = test_dataset_mask_events[0]\n",
        "test_data_mask_events\n",
        "\n",
        "\n",
        "# Move all your data to the same device\n",
        "train_data_mask_events =  train_data_mask_events.to(device)\n",
        "test_data_mask_events =  test_data_mask_events.to(device)\n",
        "\n",
        "model = ConvModel(train_data_mask_events).to(device)\n",
        "\n",
        "model\n",
        "class_weights = compute_class_weights(train_labels)\n",
        "\n",
        "train_TEST_2_5(model, train_data_mask_events,2000,class_weights)\n",
        "\n",
        "test_TEST_2_5(model, test_data_mask_events,classes= [\"Main\", \"Ally\", \"Antagonist\",\"Other\"])"
      ],
      "metadata": {
        "colab": {
          "base_uri": "https://localhost:8080/",
          "height": 1000
        },
        "outputId": "d5e05916-87a9-4e51-cbd9-0c056c77e90f",
        "id": "KGmYc2b2g2NV"
      },
      "execution_count": null,
      "outputs": [
        {
          "output_type": "stream",
          "name": "stdout",
          "text": [
            "Epoch   0 | Loss: 1.50 | Acc: 35.04%\n",
            "Epoch  50 | Loss: 1.20 | Acc: 44.44%\n",
            "Epoch 100 | Loss: 1.18 | Acc: 41.88%\n",
            "Epoch 150 | Loss: 1.17 | Acc: 38.46%\n",
            "Epoch 200 | Loss: 1.15 | Acc: 41.88%\n",
            "Epoch 250 | Loss: 1.17 | Acc: 44.87%\n",
            "Epoch 300 | Loss: 1.17 | Acc: 41.03%\n",
            "Epoch 350 | Loss: 1.16 | Acc: 38.89%\n",
            "Epoch 400 | Loss: 1.16 | Acc: 37.61%\n",
            "Epoch 450 | Loss: 1.15 | Acc: 40.17%\n",
            "Epoch 500 | Loss: 1.14 | Acc: 39.74%\n",
            "Epoch 550 | Loss: 1.14 | Acc: 41.88%\n",
            "Epoch 600 | Loss: 1.16 | Acc: 38.03%\n",
            "Epoch 650 | Loss: 1.14 | Acc: 38.03%\n",
            "Epoch 700 | Loss: 1.14 | Acc: 44.44%\n",
            "Epoch 750 | Loss: 1.14 | Acc: 35.47%\n",
            "Epoch 800 | Loss: 1.16 | Acc: 41.45%\n",
            "Epoch 850 | Loss: 1.14 | Acc: 43.59%\n",
            "Epoch 900 | Loss: 1.14 | Acc: 45.30%\n",
            "Epoch 950 | Loss: 1.13 | Acc: 44.44%\n",
            "Epoch 1000 | Loss: 1.15 | Acc: 41.03%\n",
            "Epoch 1050 | Loss: 1.13 | Acc: 38.03%\n",
            "Epoch 1100 | Loss: 1.14 | Acc: 38.03%\n",
            "Epoch 1150 | Loss: 1.13 | Acc: 36.75%\n",
            "Epoch 1200 | Loss: 1.16 | Acc: 35.90%\n",
            "Epoch 1250 | Loss: 1.14 | Acc: 33.33%\n",
            "Epoch 1300 | Loss: 1.13 | Acc: 38.46%\n",
            "Epoch 1350 | Loss: 1.13 | Acc: 43.16%\n",
            "Epoch 1400 | Loss: 1.13 | Acc: 36.75%\n",
            "Epoch 1450 | Loss: 1.15 | Acc: 38.03%\n",
            "Epoch 1500 | Loss: 1.16 | Acc: 32.05%\n",
            "Epoch 1550 | Loss: 1.12 | Acc: 42.31%\n",
            "Epoch 1600 | Loss: 1.12 | Acc: 36.75%\n",
            "Epoch 1650 | Loss: 1.11 | Acc: 48.29%\n",
            "Epoch 1700 | Loss: 1.10 | Acc: 43.16%\n",
            "Epoch 1750 | Loss: 1.12 | Acc: 40.17%\n",
            "Epoch 1800 | Loss: 1.13 | Acc: 36.75%\n",
            "Epoch 1850 | Loss: 1.11 | Acc: 36.32%\n",
            "Epoch 1900 | Loss: 1.14 | Acc: 38.89%\n",
            "Epoch 1950 | Loss: 1.10 | Acc: 40.17%\n",
            "              precision    recall  f1-score   support\n",
            "\n",
            "        Main       0.26      0.76      0.39        25\n",
            "        Ally       0.29      0.56      0.38        41\n",
            "  Antagonist       0.29      0.14      0.19        43\n",
            "       Other       0.74      0.36      0.48       125\n",
            "\n",
            "    accuracy                           0.40       234\n",
            "   macro avg       0.39      0.46      0.36       234\n",
            "weighted avg       0.53      0.40      0.40       234\n",
            "\n"
          ]
        },
        {
          "output_type": "display_data",
          "data": {
            "text/plain": [
              "<Figure size 640x480 with 2 Axes>"
            ],
            "image/png": "[encoded data removed]"
          },
          "metadata": {}
        }
      ]
    },
    {
      "cell_type": "markdown",
      "source": [
        "## Char graph Summary SageModel"
      ],
      "metadata": {
        "id": "_NIR9QLwg2NV"
      }
    },
    {
      "cell_type": "code",
      "execution_count": null,
      "metadata": {
        "id": "W6Y1MiYIg2NW"
      },
      "outputs": [],
      "source": [
        "if summ == True:\n",
        "  g_file_name = \"summ_\"\n",
        "elif recap == True:\n",
        "  g_file_name = \"recap_\"\n",
        "  \n",
        "if LOAD_FEAT == \"C1_C2_last_layer\":\n",
        "  g_file_name += \"C1_C2_train_G_solo_c-last_layer.json\"\n",
        "  load_graph_name = os.path.join(str(GNN_features_PATH), g_file_name)\n",
        "elif LOAD_FEAT == \"C1\":\n",
        "  g_file_name += \"C1_train_G_solo_c.json\"\n",
        "  load_graph_name = os.path.join(str(GNN_features_PATH), g_file_name)\n",
        "elif LOAD_FEAT == \"C1_C2_all_layer\":\n",
        "  g_file_name += \"C1_C2_train_G_solo_c-all_layers.json\"\n",
        "  load_graph_name = os.path.join(str(GNN_features_PATH), g_file_name)\n",
        "elif LOAD_FEAT == \"C1_C2_last_layer_cleand\" :\n",
        "  g_file_name += \"C1_C2_train_G_solo_c-last_layers_cleand.json\"\n",
        "  load_graph_name = os.path.join(str(GNN_features_PATH), g_file_name)\n",
        "train_G_solo_c = load_graph(load_graph_name)"
      ]
    },
    {
      "cell_type": "code",
      "execution_count": null,
      "metadata": {
        "id": "MSTOwi8Yg2NW"
      },
      "outputs": [],
      "source": [
        "if summ == True:\n",
        "  g_file_name = \"summ_\"\n",
        "elif recap == True:\n",
        "  g_file_name = \"recap_\"\n",
        "  \n",
        "if LOAD_FEAT == \"C1_C2_last_layer\":\n",
        "  g_file_name += \"C1_C2_test_G_solo_c-last_layer.json\"\n",
        "  load_graph_name = os.path.join(str(GNN_features_PATH), g_file_name)\n",
        "elif LOAD_FEAT == \"C1\":\n",
        "  g_file_name += \"C1_test_G_solo_c.json\"\n",
        "  load_graph_name = os.path.join(str(GNN_features_PATH), g_file_name)\n",
        "elif LOAD_FEAT == \"C1_C2_all_layer\":\n",
        "  g_file_name += \"C1_C2_test_G_solo_c-all_layers.json\"\n",
        "  load_graph_name = os.path.join(str(GNN_features_PATH), g_file_name)\n",
        "elif LOAD_FEAT == \"C1_C2_last_layer_cleand\" :\n",
        "  g_file_name += \"C1_C2_test_G_solo_c-last_layers_cleand.json\"\n",
        "  load_graph_name = os.path.join(str(GNN_features_PATH), g_file_name)\n",
        "test_G_solo_c = load_graph(load_graph_name)"
      ]
    },
    {
      "cell_type": "code",
      "source": [
        "\n",
        "train_labels = get_labels_all(train_G_solo_c)\n",
        "\n",
        "test_labels = get_labels_all(test_G_solo_c)\n",
        "num_classes = 4\n",
        "classes = [0,1 ,2,3]\n",
        "\n",
        "\n",
        "train_dataset_mask_events = MyDataset(train_G_solo_c, [i for i in train_labels], ['Feature'], num_classes)\n",
        "train_data_mask_events = train_dataset_mask_events[0]\n",
        "train_data_mask_events\n",
        "\n",
        "test_dataset_mask_events = MyDataset(test_G_solo_c, [i for i in test_labels], ['Feature'], num_classes)\n",
        "test_data_mask_events = test_dataset_mask_events[0]\n",
        "test_data_mask_events\n",
        "\n",
        "\n",
        "# Move all your data to the same device\n",
        "train_data_mask_events =  train_data_mask_events.to(device)\n",
        "test_data_mask_events =  test_data_mask_events.to(device)\n",
        "\n",
        "model = SageModel(train_data_mask_events).to(device)\n",
        "\n",
        "model\n",
        "class_weights = compute_class_weights(train_labels)\n",
        "\n",
        "train_TEST_2_5(model, train_data_mask_events,3000,class_weights)\n",
        "\n",
        "test_TEST_2_5(model, test_data_mask_events, classes= [\"Main\", \"Ally\", \"Antagonist\",\"Other\"])"
      ],
      "metadata": {
        "colab": {
          "base_uri": "https://localhost:8080/",
          "height": 1000
        },
        "outputId": "2389575e-b90b-4084-d51d-43bc8ee87961",
        "id": "YewuggS3g2NW"
      },
      "execution_count": null,
      "outputs": [
        {
          "output_type": "stream",
          "name": "stdout",
          "text": [
            "Epoch   0 | Loss: 1.50 | Acc: 22.22%\n",
            "Epoch  50 | Loss: 1.21 | Acc: 38.03%\n",
            "Epoch 100 | Loss: 1.16 | Acc: 37.61%\n",
            "Epoch 150 | Loss: 1.12 | Acc: 41.45%\n",
            "Epoch 200 | Loss: 1.07 | Acc: 35.47%\n",
            "Epoch 250 | Loss: 1.06 | Acc: 43.16%\n",
            "Epoch 300 | Loss: 1.01 | Acc: 47.01%\n",
            "Epoch 350 | Loss: 1.00 | Acc: 42.74%\n",
            "Epoch 400 | Loss: 0.96 | Acc: 48.29%\n",
            "Epoch 450 | Loss: 1.01 | Acc: 45.73%\n",
            "Epoch 500 | Loss: 0.97 | Acc: 43.59%\n",
            "Epoch 550 | Loss: 1.02 | Acc: 52.14%\n",
            "Epoch 600 | Loss: 0.98 | Acc: 52.56%\n",
            "Epoch 650 | Loss: 0.92 | Acc: 57.69%\n",
            "Epoch 700 | Loss: 0.93 | Acc: 58.55%\n",
            "Epoch 750 | Loss: 0.89 | Acc: 50.85%\n",
            "Epoch 800 | Loss: 0.89 | Acc: 57.26%\n",
            "Epoch 850 | Loss: 0.88 | Acc: 50.43%\n",
            "Epoch 900 | Loss: 0.87 | Acc: 54.27%\n",
            "Epoch 950 | Loss: 0.84 | Acc: 64.10%\n",
            "Epoch 1000 | Loss: 0.84 | Acc: 61.11%\n",
            "Epoch 1050 | Loss: 0.87 | Acc: 57.26%\n",
            "Epoch 1100 | Loss: 0.92 | Acc: 52.14%\n",
            "Epoch 1150 | Loss: 0.79 | Acc: 64.53%\n",
            "Epoch 1200 | Loss: 0.82 | Acc: 58.55%\n",
            "Epoch 1250 | Loss: 0.85 | Acc: 57.26%\n",
            "Epoch 1300 | Loss: 0.86 | Acc: 50.85%\n",
            "Epoch 1350 | Loss: 0.95 | Acc: 55.98%\n",
            "Epoch 1400 | Loss: 0.81 | Acc: 61.97%\n",
            "Epoch 1450 | Loss: 0.81 | Acc: 61.54%\n",
            "Epoch 1500 | Loss: 0.74 | Acc: 61.11%\n",
            "Epoch 1550 | Loss: 0.67 | Acc: 68.38%\n",
            "Epoch 1600 | Loss: 0.78 | Acc: 62.82%\n",
            "Epoch 1650 | Loss: 0.75 | Acc: 58.55%\n",
            "Epoch 1700 | Loss: 0.83 | Acc: 57.69%\n",
            "Epoch 1750 | Loss: 0.71 | Acc: 64.96%\n",
            "Epoch 1800 | Loss: 0.79 | Acc: 61.97%\n",
            "Epoch 1850 | Loss: 0.79 | Acc: 61.97%\n",
            "Epoch 1900 | Loss: 0.68 | Acc: 67.09%\n",
            "Epoch 1950 | Loss: 0.75 | Acc: 72.22%\n",
            "Epoch 2000 | Loss: 0.75 | Acc: 59.40%\n",
            "Epoch 2050 | Loss: 0.71 | Acc: 68.80%\n",
            "Epoch 2100 | Loss: 0.76 | Acc: 69.66%\n",
            "Epoch 2150 | Loss: 0.76 | Acc: 61.54%\n",
            "Epoch 2200 | Loss: 0.69 | Acc: 64.53%\n",
            "Epoch 2250 | Loss: 0.74 | Acc: 58.55%\n",
            "Epoch 2300 | Loss: 0.69 | Acc: 68.38%\n",
            "Epoch 2350 | Loss: 0.75 | Acc: 67.52%\n",
            "Epoch 2400 | Loss: 0.75 | Acc: 60.26%\n",
            "Epoch 2450 | Loss: 0.76 | Acc: 62.39%\n",
            "Epoch 2500 | Loss: 0.77 | Acc: 67.95%\n",
            "Epoch 2550 | Loss: 0.70 | Acc: 66.67%\n",
            "Epoch 2600 | Loss: 0.68 | Acc: 68.80%\n",
            "Epoch 2650 | Loss: 0.67 | Acc: 68.80%\n",
            "Epoch 2700 | Loss: 0.73 | Acc: 67.95%\n",
            "Epoch 2750 | Loss: 0.69 | Acc: 67.95%\n",
            "Epoch 2800 | Loss: 0.67 | Acc: 69.66%\n",
            "Epoch 2850 | Loss: 0.69 | Acc: 62.82%\n",
            "Epoch 2900 | Loss: 0.63 | Acc: 73.50%\n",
            "Epoch 2950 | Loss: 0.65 | Acc: 70.94%\n",
            "              precision    recall  f1-score   support\n",
            "\n",
            "        Main       0.63      0.88      0.73        25\n",
            "        Ally       0.47      0.83      0.60        41\n",
            "  Antagonist       0.55      0.72      0.63        43\n",
            "       Other       0.97      0.55      0.70       125\n",
            "\n",
            "    accuracy                           0.67       234\n",
            "   macro avg       0.66      0.75      0.67       234\n",
            "weighted avg       0.77      0.67      0.67       234\n",
            "\n"
          ]
        },
        {
          "output_type": "display_data",
          "data": {
            "text/plain": [
              "<Figure size 640x480 with 2 Axes>"
            ],
            "image/png": "[encoded data removed]"
          },
          "metadata": {}
        }
      ]
    },
    {
      "cell_type": "code",
      "source": [],
      "metadata": {
        "id": "vBooH8yQg2NW"
      },
      "execution_count": null,
      "outputs": []
    },
    {
      "cell_type": "markdown",
      "source": [
        "## Event/Char graph Summary ConvModel"
      ],
      "metadata": {
        "id": "2UPvOut3hEIY"
      }
    },
    {
      "cell_type": "code",
      "execution_count": null,
      "metadata": {
        "id": "tw-uimSrhEIZ"
      },
      "outputs": [],
      "source": [
        "if summ == True:\n",
        "  g_file_name = \"summ_\"\n",
        "elif recap == True:\n",
        "  g_file_name = \"recap_\"\n",
        "  \n",
        "if LOAD_FEAT == \"C1_C2_last_layer\":\n",
        "  g_file_name += \"C1_C2_train_G-last_layer.json\"\n",
        "  load_graph_name = os.path.join(str(GNN_features_PATH), g_file_name)\n",
        "elif LOAD_FEAT == \"C1\":\n",
        "  g_file_name += \"C1_train_G.json\"\n",
        "  load_graph_name = os.path.join(str(GNN_features_PATH), g_file_name)\n",
        "elif LOAD_FEAT == \"C1_C2_all_layer\":\n",
        "  g_file_name += \"C1_C2_train_G-all_layers.json\"\n",
        "  load_graph_name = os.path.join(str(GNN_features_PATH), g_file_name)\n",
        "elif LOAD_FEAT ==\"C1_C2_last_layer_cleand\":\n",
        "  g_file_name += \"C1_C2_train_G-last_layer-cleands.json\"\n",
        "  load_graph_name = os.path.join(str(GNN_features_PATH), g_file_name)\n",
        "train_G = load_graph_event_char(load_graph_name)"
      ]
    },
    {
      "cell_type": "code",
      "execution_count": null,
      "metadata": {
        "id": "QXDgOCeQhEIZ"
      },
      "outputs": [],
      "source": [
        "if summ == True:\n",
        "  g_file_name = \"summ_\"\n",
        "elif recap == True:\n",
        "  g_file_name = \"recap_\"\n",
        "  \n",
        "if LOAD_FEAT == \"C1_C2_last_layer\" :\n",
        "  g_file_name += \"C1_C2_test_G-last_layer.json\"\n",
        "  load_graph_name = os.path.join(str(GNN_features_PATH), g_file_name)\n",
        "elif LOAD_FEAT == \"C1\":\n",
        "  g_file_name += \"C1_test_G.json\"\n",
        "  load_graph_name = os.path.join(str(GNN_features_PATH), g_file_name)\n",
        "elif LOAD_FEAT == \"C1_C2_all_layer\":\n",
        "  g_file_name += \"C1_C2_test_G-all_layers.json\"\n",
        "  load_graph_name = os.path.join(str(GNN_features_PATH), g_file_name)\n",
        "elif LOAD_FEAT ==\"C1_C2_last_layer_cleand\":\n",
        "  g_file_name += \"C1_C2_test_G-last_layer-cleand.json\"\n",
        "  load_graph_name = os.path.join(str(GNN_features_PATH), g_file_name)\n",
        "test_G = load_graph_event_char(load_graph_name)"
      ]
    },
    {
      "cell_type": "code",
      "source": [
        "\n",
        "train_labels = get_labels_all_event(train_G)\n",
        "\n",
        "test_labels = get_labels_all_event(test_G)\n",
        "num_classes = 5\n",
        "classes = [0,1 ,2,3,4]\n",
        "\n",
        "train_dataset_mask_events = MyDataset(train_G, [i for i in train_labels], ['Feature'], num_classes)\n",
        "train_data_mask_events = train_dataset_mask_events[0]\n",
        "train_data_mask_events\n",
        "\n",
        "test_dataset_mask_events = MyDataset(test_G, [i for i in test_labels], ['Feature'], num_classes)\n",
        "test_data_mask_events = test_dataset_mask_events[0]\n",
        "test_data_mask_events\n",
        "\n",
        "\n",
        "# Move all your data to the same device\n",
        "train_data_mask_events =  train_data_mask_events.to(device)\n",
        "test_data_mask_events =  test_data_mask_events.to(device)\n",
        "\n",
        "model = ConvModel(train_data_mask_events).to(device)\n",
        "\n",
        "model\n",
        "class_weights = [0.3] + compute_class_weights(train_labels)[1:]\n",
        "\n",
        "train_TEST_1_8(model, train_data_mask_events,2000,class_weights)\n",
        "\n",
        "test_TEST_1_8(model, test_data_mask_events, classes= [\"Event\", \"Main\", \"Ally\", \"Antagonist\",\"Other\"])"
      ],
      "metadata": {
        "colab": {
          "base_uri": "https://localhost:8080/",
          "height": 1000
        },
        "outputId": "aeeb0887-0e57-4e4a-c082-2106708255b8",
        "id": "puTGt7CQhEIZ"
      },
      "execution_count": null,
      "outputs": [
        {
          "output_type": "stream",
          "name": "stdout",
          "text": [
            "Epoch   0 | Loss: 2.22 | Acc: 13.31%\n",
            "Epoch  50 | Loss: 1.12 | Acc: 40.06%\n",
            "Epoch 100 | Loss: 1.15 | Acc: 43.52%\n",
            "Epoch 150 | Loss: 1.03 | Acc: 45.24%\n",
            "Epoch 200 | Loss: 0.97 | Acc: 51.20%\n",
            "Epoch 250 | Loss: 0.95 | Acc: 56.71%\n",
            "Epoch 300 | Loss: 0.82 | Acc: 60.06%\n",
            "Epoch 350 | Loss: 0.90 | Acc: 62.46%\n",
            "Epoch 400 | Loss: 0.74 | Acc: 70.25%\n",
            "Epoch 450 | Loss: 0.69 | Acc: 70.73%\n",
            "Epoch 500 | Loss: 0.71 | Acc: 75.55%\n",
            "Epoch 550 | Loss: 0.63 | Acc: 80.22%\n",
            "Epoch 600 | Loss: 0.70 | Acc: 80.51%\n",
            "Epoch 650 | Loss: 0.64 | Acc: 82.66%\n",
            "Epoch 700 | Loss: 0.57 | Acc: 85.13%\n",
            "Epoch 750 | Loss: 0.59 | Acc: 82.12%\n",
            "Epoch 800 | Loss: 0.52 | Acc: 85.53%\n",
            "Epoch 850 | Loss: 0.43 | Acc: 87.30%\n",
            "Epoch 900 | Loss: 0.46 | Acc: 88.54%\n",
            "Epoch 950 | Loss: 0.55 | Acc: 88.48%\n",
            "Epoch 1000 | Loss: 0.47 | Acc: 89.65%\n",
            "Epoch 1050 | Loss: 0.44 | Acc: 88.94%\n",
            "Epoch 1100 | Loss: 0.42 | Acc: 89.83%\n",
            "Epoch 1150 | Loss: 0.46 | Acc: 90.61%\n",
            "Epoch 1200 | Loss: 0.35 | Acc: 91.86%\n",
            "Epoch 1250 | Loss: 0.38 | Acc: 91.51%\n",
            "Epoch 1300 | Loss: 0.37 | Acc: 92.47%\n",
            "Epoch 1350 | Loss: 0.37 | Acc: 92.00%\n",
            "Epoch 1400 | Loss: 0.36 | Acc: 92.13%\n",
            "Epoch 1450 | Loss: 0.36 | Acc: 93.59%\n",
            "Epoch 1500 | Loss: 0.32 | Acc: 93.30%\n",
            "Epoch 1550 | Loss: 0.32 | Acc: 92.89%\n",
            "Epoch 1600 | Loss: 0.35 | Acc: 93.49%\n",
            "Epoch 1650 | Loss: 0.32 | Acc: 94.52%\n",
            "Epoch 1700 | Loss: 0.28 | Acc: 94.28%\n",
            "Epoch 1750 | Loss: 0.29 | Acc: 94.64%\n",
            "Epoch 1800 | Loss: 0.22 | Acc: 94.78%\n",
            "Epoch 1850 | Loss: 0.26 | Acc: 94.38%\n",
            "Epoch 1900 | Loss: 0.25 | Acc: 95.50%\n",
            "Epoch 1950 | Loss: 0.24 | Acc: 94.78%\n",
            "              precision    recall  f1-score   support\n",
            "\n",
            "       Event       1.00      0.88      0.94      3823\n",
            "        Main       0.05      0.48      0.09        23\n",
            "        Ally       0.01      0.08      0.02        12\n",
            "  Antagonist       0.02      0.25      0.04         8\n",
            "       Other       0.31      0.52      0.39       109\n",
            "\n",
            "    accuracy                           0.86      3975\n",
            "   macro avg       0.28      0.44      0.29      3975\n",
            "weighted avg       0.97      0.86      0.91      3975\n",
            "\n"
          ]
        },
        {
          "output_type": "display_data",
          "data": {
            "text/plain": [
              "<Figure size 640x480 with 2 Axes>"
            ],
            "image/png": "[encoded data removed]"
          },
          "metadata": {}
        }
      ]
    },
    {
      "cell_type": "markdown",
      "source": [
        "## Event/Char graph Summary SageModel"
      ],
      "metadata": {
        "id": "NYIIRovdj7PQ"
      }
    },
    {
      "cell_type": "code",
      "execution_count": null,
      "metadata": {
        "id": "K6zHYzUJj7PR"
      },
      "outputs": [],
      "source": [
        "if summ == True:\n",
        "  g_file_name = \"summ_\"\n",
        "elif recap == True:\n",
        "  g_file_name = \"recap_\"\n",
        "  \n",
        "if LOAD_FEAT == \"C1_C2_last_layer\":\n",
        "  g_file_name += \"C1_C2_train_G-last_layer.json\"\n",
        "  load_graph_name = os.path.join(str(GNN_features_PATH), g_file_name)\n",
        "elif LOAD_FEAT == \"C1\":\n",
        "  g_file_name += \"C1_train_G.json\"\n",
        "  load_graph_name = os.path.join(str(GNN_features_PATH), g_file_name)\n",
        "elif LOAD_FEAT == \"C1_C2_all_layer\":\n",
        "  g_file_name += \"C1_C2_train_G-all_layers.json\"\n",
        "  load_graph_name = os.path.join(str(GNN_features_PATH), g_file_name)\n",
        "elif LOAD_FEAT ==\"C1_C2_last_layer_cleand\":\n",
        "  g_file_name += \"C1_C2_train_G-last_layer-cleands.json\"\n",
        "  load_graph_name = os.path.join(str(GNN_features_PATH), g_file_name)\n",
        "train_G = load_graph_event_char(load_graph_name)"
      ]
    },
    {
      "cell_type": "code",
      "execution_count": null,
      "metadata": {
        "id": "aV35I9VIj7PR"
      },
      "outputs": [],
      "source": [
        "if summ == True:\n",
        "  g_file_name = \"summ_\"\n",
        "elif recap == True:\n",
        "  g_file_name = \"recap_\"\n",
        "  \n",
        "if LOAD_FEAT == \"C1_C2_last_layer\" :\n",
        "  g_file_name += \"C1_C2_test_G-last_layer.json\"\n",
        "  load_graph_name = os.path.join(str(GNN_features_PATH), g_file_name)\n",
        "elif LOAD_FEAT == \"C1\":\n",
        "  g_file_name += \"C1_test_G.json\"\n",
        "  load_graph_name = os.path.join(str(GNN_features_PATH), g_file_name)\n",
        "elif LOAD_FEAT == \"C1_C2_all_layer\":\n",
        "  g_file_name += \"C1_C2_test_G-all_layers.json\"\n",
        "  load_graph_name = os.path.join(str(GNN_features_PATH), g_file_name)\n",
        "elif LOAD_FEAT ==\"C1_C2_last_layer_cleand\":\n",
        "  g_file_name += \"C1_C2_test_G-last_layer-cleand.json\"\n",
        "  load_graph_name = os.path.join(str(GNN_features_PATH), g_file_name)\n",
        "test_G = load_graph_event_char(load_graph_name)"
      ]
    },
    {
      "cell_type": "code",
      "source": [
        "\n",
        "train_labels = get_labels_all_event(train_G)\n",
        "\n",
        "test_labels = get_labels_all_event(test_G)\n",
        "num_classes = 5\n",
        "classes = [0,1 ,2,3,4]\n",
        "\n",
        "train_dataset_mask_events = MyDataset(train_G, [i for i in train_labels], ['Feature'], num_classes)\n",
        "train_data_mask_events = train_dataset_mask_events[0]\n",
        "train_data_mask_events\n",
        "\n",
        "test_dataset_mask_events = MyDataset(test_G, [i for i in test_labels], ['Feature'], num_classes)\n",
        "test_data_mask_events = test_dataset_mask_events[0]\n",
        "test_data_mask_events\n",
        "\n",
        "\n",
        "# Move all your data to the same device\n",
        "train_data_mask_events =  train_data_mask_events.to(device)\n",
        "test_data_mask_events =  test_data_mask_events.to(device)\n",
        "\n",
        "model = SageModel(train_data_mask_events).to(device)\n",
        "\n",
        "model\n",
        "class_weights = [0.3] + compute_class_weights(train_labels)[1:]\n",
        "\n",
        "train_TEST_1_8(model, train_data_mask_events,2000,class_weights)\n",
        "\n",
        "test_TEST_1_8(model, test_data_mask_events, classes= [\"Event\",\"Main\", \"Ally\", \"Antagonist\",\"Other\"])"
      ],
      "metadata": {
        "colab": {
          "base_uri": "https://localhost:8080/",
          "height": 1000
        },
        "outputId": "27adb4dc-b7e4-4d8c-e285-4a89820c9b1c",
        "id": "-CB_kPafj7PR"
      },
      "execution_count": null,
      "outputs": [
        {
          "output_type": "stream",
          "name": "stdout",
          "text": [
            "Epoch   0 | Loss: 1.70 | Acc: 14.79%\n",
            "Epoch  50 | Loss: 1.28 | Acc: 26.78%\n",
            "Epoch 100 | Loss: 1.09 | Acc: 31.00%\n",
            "Epoch 150 | Loss: 0.96 | Acc: 37.79%\n",
            "Epoch 200 | Loss: 0.91 | Acc: 45.23%\n",
            "Epoch 250 | Loss: 0.72 | Acc: 55.17%\n",
            "Epoch 300 | Loss: 0.65 | Acc: 61.65%\n",
            "Epoch 350 | Loss: 0.59 | Acc: 67.31%\n",
            "Epoch 400 | Loss: 0.58 | Acc: 75.13%\n",
            "Epoch 450 | Loss: 0.45 | Acc: 82.59%\n",
            "Epoch 500 | Loss: 0.44 | Acc: 86.59%\n",
            "Epoch 550 | Loss: 0.30 | Acc: 90.98%\n",
            "Epoch 600 | Loss: 0.32 | Acc: 93.35%\n",
            "Epoch 650 | Loss: 0.43 | Acc: 94.46%\n",
            "Epoch 700 | Loss: 0.26 | Acc: 95.90%\n",
            "Epoch 750 | Loss: 0.27 | Acc: 96.54%\n",
            "Epoch 800 | Loss: 0.35 | Acc: 96.94%\n",
            "Epoch 850 | Loss: 0.24 | Acc: 97.74%\n",
            "Epoch 900 | Loss: 0.26 | Acc: 98.54%\n",
            "Epoch 950 | Loss: 0.21 | Acc: 98.39%\n",
            "Epoch 1000 | Loss: 0.18 | Acc: 98.29%\n",
            "Epoch 1050 | Loss: 0.18 | Acc: 98.11%\n",
            "Epoch 1100 | Loss: 0.20 | Acc: 98.93%\n",
            "Epoch 1150 | Loss: 0.16 | Acc: 98.53%\n",
            "Epoch 1200 | Loss: 0.12 | Acc: 98.88%\n",
            "Epoch 1250 | Loss: 0.13 | Acc: 99.20%\n",
            "Epoch 1300 | Loss: 0.11 | Acc: 99.28%\n",
            "Epoch 1350 | Loss: 0.11 | Acc: 99.35%\n",
            "Epoch 1400 | Loss: 0.09 | Acc: 99.30%\n",
            "Epoch 1450 | Loss: 0.10 | Acc: 98.99%\n",
            "Epoch 1500 | Loss: 0.09 | Acc: 99.41%\n",
            "Epoch 1550 | Loss: 0.11 | Acc: 99.29%\n",
            "Epoch 1600 | Loss: 0.11 | Acc: 99.38%\n",
            "Epoch 1650 | Loss: 0.05 | Acc: 99.48%\n",
            "Epoch 1700 | Loss: 0.08 | Acc: 99.50%\n",
            "Epoch 1750 | Loss: 0.10 | Acc: 99.51%\n",
            "Epoch 1800 | Loss: 0.10 | Acc: 99.47%\n",
            "Epoch 1850 | Loss: 0.09 | Acc: 99.54%\n",
            "Epoch 1900 | Loss: 0.07 | Acc: 99.35%\n",
            "Epoch 1950 | Loss: 0.07 | Acc: 99.50%\n",
            "              precision    recall  f1-score   support\n",
            "\n",
            "       Event       1.00      0.95      0.98      3823\n",
            "        Main       0.04      0.04      0.04        23\n",
            "        Ally       0.02      0.08      0.03        12\n",
            "  Antagonist       0.03      0.12      0.04         8\n",
            "       Other       0.34      0.68      0.45       109\n",
            "\n",
            "    accuracy                           0.93      3975\n",
            "   macro avg       0.29      0.38      0.31      3975\n",
            "weighted avg       0.97      0.93      0.95      3975\n",
            "\n"
          ]
        },
        {
          "output_type": "display_data",
          "data": {
            "text/plain": [
              "<Figure size 640x480 with 2 Axes>"
            ],
            "image/png": "[encoded data removed]"
          },
          "metadata": {}
        }
      ]
    }
  ],
  "metadata": {
    "colab": {
      "provenance": [],
      "machine_shape": "hm"
    },
    "kernelspec": {
      "display_name": "Python 3",
      "name": "python3"
    },
    "language_info": {
      "name": "python"
    },
    "gpuClass": "standard",
    "accelerator": "GPU"
  },
  "nbformat": 4,
  "nbformat_minor": 0
}